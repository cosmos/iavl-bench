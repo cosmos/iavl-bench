{
 "cells": [
  {
   "cell_type": "code",
   "id": "initial_id",
   "metadata": {
    "collapsed": true,
    "ExecuteTime": {
     "end_time": "2025-09-09T21:07:20.517338Z",
     "start_time": "2025-09-09T21:07:18.182850Z"
    }
   },
   "source": [
    "from read_logs import row_iterator\n",
    "import datetime\n",
    "import polars as pl\n",
    "import matplotlib.pyplot as plt"
   ],
   "outputs": [],
   "execution_count": 53
  },
  {
   "metadata": {
    "ExecuteTime": {
     "end_time": "2025-09-09T21:04:23.124365Z",
     "start_time": "2025-09-09T21:04:22.169048Z"
    }
   },
   "cell_type": "code",
   "source": [
    "rows = row_iterator(\"/Users/arc/iavl-bench-data/run-mixed-large2/memiavl-100-2.jsonl\")\n",
    "memiavl_rows = [r for r in rows if r.get(\"module\") == \"memiavl\"]"
   ],
   "id": "8476698ac8748ca3",
   "outputs": [],
   "execution_count": 49
  },
  {
   "metadata": {
    "ExecuteTime": {
     "end_time": "2025-09-09T21:04:23.815589Z",
     "start_time": "2025-09-09T21:04:23.810891Z"
    }
   },
   "cell_type": "code",
   "source": "print([[r.get(\"msg\"), r.get(\"version\")] for r in memiavl_rows if r.get(\"msg\")][0:20])",
   "id": "aa63ff26e2c1901",
   "outputs": [
    {
     "name": "stdout",
     "output_type": "stream",
     "text": [
      "[['start rewriting snapshot', 100], ['finished rewriting snapshot', 100], ['finished best-effort WAL catchup', 100], ['switched to new snapshot', 112], ['failed to find first snapshot', None], ['start rewriting snapshot', 200], ['finished rewriting snapshot', 200], ['finished best-effort WAL catchup', 200], ['switched to new snapshot', 221], ['failed to find first snapshot', None], ['start rewriting snapshot', 300], ['finished rewriting snapshot', 300], ['finished best-effort WAL catchup', 300], ['switched to new snapshot', 326], ['prune snapshot', None], ['start rewriting snapshot', 400], ['finished rewriting snapshot', 400], ['finished best-effort WAL catchup', 400], ['switched to new snapshot', 429], ['prune snapshot', None]]\n"
     ]
    }
   ],
   "execution_count": 50
  },
  {
   "metadata": {
    "ExecuteTime": {
     "end_time": "2025-09-09T21:04:24.560465Z",
     "start_time": "2025-09-09T21:04:24.530846Z"
    }
   },
   "cell_type": "code",
   "source": [
    "snapshot_start = {}\n",
    "snapshot_end = {}\n",
    "snapshot_switch = {}\n",
    "finish_wal_catchup = {}\n",
    "snapshots = []\n",
    "for r in memiavl_rows:\n",
    "    msg = r.get(\"msg\")\n",
    "    time = datetime.datetime.fromisoformat(r.get(\"time\"))\n",
    "    version = r.get(\"version\")\n",
    "    match msg:\n",
    "        case \"start rewriting snapshot\":\n",
    "            snapshot_start[version] = time\n",
    "            print(f\"{time} SNAPSHOT START {version}\")\n",
    "            snapshots += [{\"version\": version, \"start\": time}]\n",
    "        case \"finished rewriting snapshot\":\n",
    "            snapshot_end[version] = time\n",
    "            elapsed = time - snapshot_start[version]\n",
    "            print(f\"{time} SNAPSHOT END {version} {elapsed} ELAPSED\")\n",
    "            snapshots[-1][\"end\"] = time\n",
    "        case \"finished best-effort WAL catchup\":\n",
    "            finish_wal_catchup[version] = time\n",
    "            elapsed = time - snapshot_start[version]\n",
    "            print(f\"{time} FINISH BEST-EFFORT WAL CATCHUP {version} {elapsed} ELAPSED\")\n",
    "            snapshots[-1][\"wal_catchup\"] = time\n",
    "        case \"switched to new snapshot\":\n",
    "            snapshot_switch[version] = time\n",
    "            print(f\"{time} SNAPSHOT SWITCH {version}\")\n",
    "            snapshots[-1][\"switch_time\"] = time\n",
    "            snapshots[-1][\"switch_version\"] = version\n",
    "\n",
    "snapshots = pl.DataFrame(snapshots)"
   ],
   "id": "7a0a534fc190e38f",
   "outputs": [
    {
     "name": "stdout",
     "output_type": "stream",
     "text": [
      "2025-09-09 17:58:56.671489+00:00 SNAPSHOT START 100\n",
      "2025-09-09 17:58:59.621843+00:00 SNAPSHOT END 100 0:00:02.950354 ELAPSED\n",
      "2025-09-09 17:59:01.156508+00:00 FINISH BEST-EFFORT WAL CATCHUP 100 0:00:04.485019 ELAPSED\n",
      "2025-09-09 17:59:02.687640+00:00 SNAPSHOT SWITCH 112\n",
      "2025-09-09 17:59:28.413426+00:00 SNAPSHOT START 200\n",
      "2025-09-09 17:59:33.319810+00:00 SNAPSHOT END 200 0:00:04.906384 ELAPSED\n",
      "2025-09-09 17:59:36.012194+00:00 FINISH BEST-EFFORT WAL CATCHUP 200 0:00:07.598768 ELAPSED\n",
      "2025-09-09 17:59:38.728401+00:00 SNAPSHOT SWITCH 221\n",
      "2025-09-09 18:00:02.983921+00:00 SNAPSHOT START 300\n",
      "2025-09-09 18:00:10.125621+00:00 SNAPSHOT END 300 0:00:07.141700 ELAPSED\n",
      "2025-09-09 18:00:13.589576+00:00 FINISH BEST-EFFORT WAL CATCHUP 300 0:00:10.605655 ELAPSED\n",
      "2025-09-09 18:00:16.868921+00:00 SNAPSHOT SWITCH 326\n",
      "2025-09-09 18:00:40.033424+00:00 SNAPSHOT START 400\n",
      "2025-09-09 18:00:48.656545+00:00 SNAPSHOT END 400 0:00:08.623121 ELAPSED\n",
      "2025-09-09 18:00:52.716552+00:00 FINISH BEST-EFFORT WAL CATCHUP 400 0:00:12.683128 ELAPSED\n",
      "2025-09-09 18:00:56.345947+00:00 SNAPSHOT SWITCH 429\n",
      "2025-09-09 18:01:18.629766+00:00 SNAPSHOT START 500\n",
      "2025-09-09 18:01:28.799400+00:00 SNAPSHOT END 500 0:00:10.169634 ELAPSED\n",
      "2025-09-09 18:01:34.219341+00:00 FINISH BEST-EFFORT WAL CATCHUP 500 0:00:15.589575 ELAPSED\n",
      "2025-09-09 18:01:38.561582+00:00 SNAPSHOT SWITCH 537\n",
      "2025-09-09 18:01:59.169986+00:00 SNAPSHOT START 600\n",
      "2025-09-09 18:02:11.057314+00:00 SNAPSHOT END 600 0:00:11.887328 ELAPSED\n",
      "2025-09-09 18:02:17.617306+00:00 FINISH BEST-EFFORT WAL CATCHUP 600 0:00:18.447320 ELAPSED\n",
      "2025-09-09 18:02:23.079166+00:00 SNAPSHOT SWITCH 644\n",
      "2025-09-09 18:02:41.693618+00:00 SNAPSHOT START 700\n",
      "2025-09-09 18:02:55.282819+00:00 SNAPSHOT END 700 0:00:13.589201 ELAPSED\n",
      "2025-09-09 18:03:02.284560+00:00 FINISH BEST-EFFORT WAL CATCHUP 700 0:00:20.590942 ELAPSED\n",
      "2025-09-09 18:03:07.903642+00:00 SNAPSHOT SWITCH 747\n",
      "2025-09-09 18:03:25.436755+00:00 SNAPSHOT START 800\n",
      "2025-09-09 18:03:40.982488+00:00 SNAPSHOT END 800 0:00:15.545733 ELAPSED\n",
      "2025-09-09 18:03:49.474209+00:00 FINISH BEST-EFFORT WAL CATCHUP 800 0:00:24.037454 ELAPSED\n",
      "2025-09-09 18:03:57.160667+00:00 SNAPSHOT SWITCH 860\n",
      "2025-09-09 18:04:10.733695+00:00 SNAPSHOT START 900\n",
      "2025-09-09 18:04:27.677797+00:00 SNAPSHOT END 900 0:00:16.944102 ELAPSED\n",
      "2025-09-09 18:04:35.509486+00:00 FINISH BEST-EFFORT WAL CATCHUP 900 0:00:24.775791 ELAPSED\n",
      "2025-09-09 18:04:42.249521+00:00 SNAPSHOT SWITCH 955\n",
      "2025-09-09 18:04:57.641746+00:00 SNAPSHOT START 1000\n",
      "2025-09-09 18:05:16.598774+00:00 SNAPSHOT END 1000 0:00:18.957028 ELAPSED\n",
      "2025-09-09 18:05:26.569062+00:00 FINISH BEST-EFFORT WAL CATCHUP 1000 0:00:28.927316 ELAPSED\n",
      "2025-09-09 18:05:34.931789+00:00 SNAPSHOT SWITCH 1065\n",
      "2025-09-09 18:05:47.165829+00:00 SNAPSHOT START 1100\n",
      "2025-09-09 18:06:07.459918+00:00 SNAPSHOT END 1100 0:00:20.294089 ELAPSED\n",
      "2025-09-09 18:06:18.555097+00:00 FINISH BEST-EFFORT WAL CATCHUP 1100 0:00:31.389268 ELAPSED\n",
      "2025-09-09 18:06:27.531533+00:00 SNAPSHOT SWITCH 1175\n",
      "2025-09-09 18:06:35.770061+00:00 SNAPSHOT START 1200\n",
      "2025-09-09 18:06:57.876498+00:00 SNAPSHOT END 1200 0:00:22.106437 ELAPSED\n",
      "2025-09-09 18:07:08.950853+00:00 FINISH BEST-EFFORT WAL CATCHUP 1200 0:00:33.180792 ELAPSED\n",
      "2025-09-09 18:07:17.795467+00:00 SNAPSHOT SWITCH 1273\n",
      "2025-09-09 18:07:27.373184+00:00 SNAPSHOT START 1300\n",
      "2025-09-09 18:07:51.506966+00:00 SNAPSHOT END 1300 0:00:24.133782 ELAPSED\n",
      "2025-09-09 18:08:03.304042+00:00 FINISH BEST-EFFORT WAL CATCHUP 1300 0:00:35.930858 ELAPSED\n",
      "2025-09-09 18:08:13.836932+00:00 SNAPSHOT SWITCH 1379\n",
      "2025-09-09 18:08:21.362879+00:00 SNAPSHOT START 1400\n",
      "2025-09-09 18:08:45.528504+00:00 SNAPSHOT END 1400 0:00:24.165625 ELAPSED\n",
      "2025-09-09 18:08:52.795190+00:00 FINISH BEST-EFFORT WAL CATCHUP 1400 0:00:31.432311 ELAPSED\n",
      "2025-09-09 18:08:54.804777+00:00 SNAPSHOT SWITCH 1429\n",
      "2025-09-09 18:09:20.227898+00:00 SNAPSHOT START 1500\n",
      "2025-09-09 18:09:47.318250+00:00 SNAPSHOT END 1500 0:00:27.090352 ELAPSED\n",
      "2025-09-09 18:09:57.019213+00:00 FINISH BEST-EFFORT WAL CATCHUP 1500 0:00:36.791315 ELAPSED\n",
      "2025-09-09 18:10:00.991397+00:00 SNAPSHOT SWITCH 1539\n",
      "2025-09-09 18:10:22.854255+00:00 SNAPSHOT START 1600\n",
      "2025-09-09 18:10:52.554064+00:00 SNAPSHOT END 1600 0:00:29.699809 ELAPSED\n",
      "2025-09-09 18:11:01.073899+00:00 FINISH BEST-EFFORT WAL CATCHUP 1600 0:00:38.219644 ELAPSED\n",
      "2025-09-09 18:11:03.659456+00:00 SNAPSHOT SWITCH 1634\n",
      "2025-09-09 18:11:27.253053+00:00 SNAPSHOT START 1700\n",
      "2025-09-09 18:11:58.032716+00:00 SNAPSHOT END 1700 0:00:30.779663 ELAPSED\n",
      "2025-09-09 18:12:07.482315+00:00 FINISH BEST-EFFORT WAL CATCHUP 1700 0:00:40.229262 ELAPSED\n",
      "2025-09-09 18:12:09.600170+00:00 SNAPSHOT SWITCH 1734\n",
      "2025-09-09 18:12:45.606284+00:00 SNAPSHOT START 1800\n",
      "2025-09-09 18:13:20.568478+00:00 SNAPSHOT END 1800 0:00:34.962194 ELAPSED\n",
      "2025-09-09 18:13:26.819889+00:00 FINISH BEST-EFFORT WAL CATCHUP 1800 0:00:41.213605 ELAPSED\n",
      "2025-09-09 18:13:29.776848+00:00 SNAPSHOT SWITCH 1822\n",
      "2025-09-09 18:14:34.485158+00:00 SNAPSHOT START 1900\n",
      "2025-09-09 18:15:12.921497+00:00 SNAPSHOT END 1900 0:00:38.436339 ELAPSED\n",
      "2025-09-09 18:15:18.599242+00:00 FINISH BEST-EFFORT WAL CATCHUP 1900 0:00:44.114084 ELAPSED\n",
      "2025-09-09 18:15:29.491339+00:00 SNAPSHOT SWITCH 1920\n",
      "2025-09-09 18:16:36.035427+00:00 SNAPSHOT START 2000\n",
      "2025-09-09 18:17:14.826128+00:00 SNAPSHOT END 2000 0:00:38.790701 ELAPSED\n",
      "2025-09-09 18:17:19.887622+00:00 FINISH BEST-EFFORT WAL CATCHUP 2000 0:00:43.852195 ELAPSED\n",
      "2025-09-09 18:17:21.608667+00:00 SNAPSHOT SWITCH 2018\n",
      "2025-09-09 18:18:28.177925+00:00 SNAPSHOT START 2100\n",
      "2025-09-09 18:19:10.109454+00:00 SNAPSHOT END 2100 0:00:41.931529 ELAPSED\n",
      "2025-09-09 18:19:15.118401+00:00 FINISH BEST-EFFORT WAL CATCHUP 2100 0:00:46.940476 ELAPSED\n",
      "2025-09-09 18:19:45.173684+00:00 SNAPSHOT SWITCH 2117\n",
      "2025-09-09 18:20:53.343421+00:00 SNAPSHOT START 2200\n",
      "2025-09-09 18:21:37.377685+00:00 SNAPSHOT END 2200 0:00:44.034264 ELAPSED\n",
      "2025-09-09 18:21:42.067570+00:00 FINISH BEST-EFFORT WAL CATCHUP 2200 0:00:48.724149 ELAPSED\n",
      "2025-09-09 18:22:07.315021+00:00 SNAPSHOT SWITCH 2215\n",
      "2025-09-09 18:23:18.224501+00:00 SNAPSHOT START 2300\n",
      "2025-09-09 18:24:07.791255+00:00 SNAPSHOT END 2300 0:00:49.566754 ELAPSED\n",
      "2025-09-09 18:24:12.160627+00:00 FINISH BEST-EFFORT WAL CATCHUP 2300 0:00:53.936126 ELAPSED\n",
      "2025-09-09 18:24:45.444112+00:00 SNAPSHOT SWITCH 2313\n",
      "2025-09-09 18:25:57.520133+00:00 SNAPSHOT START 2400\n",
      "2025-09-09 18:26:49.566189+00:00 SNAPSHOT END 2400 0:00:52.046056 ELAPSED\n",
      "2025-09-09 18:26:53.326418+00:00 FINISH BEST-EFFORT WAL CATCHUP 2400 0:00:55.806285 ELAPSED\n",
      "2025-09-09 18:27:24.843758+00:00 SNAPSHOT SWITCH 2411\n",
      "2025-09-09 18:28:38.990834+00:00 SNAPSHOT START 2500\n",
      "2025-09-09 18:29:31.849780+00:00 SNAPSHOT END 2500 0:00:52.858946 ELAPSED\n",
      "2025-09-09 18:29:35.305231+00:00 FINISH BEST-EFFORT WAL CATCHUP 2500 0:00:56.314397 ELAPSED\n",
      "2025-09-09 18:30:19.080824+00:00 SNAPSHOT SWITCH 2510\n",
      "2025-09-09 18:31:34.196718+00:00 SNAPSHOT START 2600\n",
      "2025-09-09 18:32:32.573502+00:00 SNAPSHOT END 2600 0:00:58.376784 ELAPSED\n",
      "2025-09-09 18:32:35.316099+00:00 FINISH BEST-EFFORT WAL CATCHUP 2600 0:01:01.119381 ELAPSED\n",
      "2025-09-09 18:33:14.844786+00:00 SNAPSHOT SWITCH 2608\n",
      "2025-09-09 18:34:27.279331+00:00 SNAPSHOT START 2700\n",
      "2025-09-09 18:35:24.491508+00:00 SNAPSHOT END 2700 0:00:57.212177 ELAPSED\n",
      "2025-09-09 18:35:26.415380+00:00 FINISH BEST-EFFORT WAL CATCHUP 2700 0:00:59.136049 ELAPSED\n",
      "2025-09-09 18:35:40.318545+00:00 SNAPSHOT SWITCH 2706\n",
      "2025-09-09 18:36:57.098333+00:00 SNAPSHOT START 2800\n",
      "2025-09-09 18:37:59.141726+00:00 SNAPSHOT END 2800 0:01:02.043393 ELAPSED\n",
      "2025-09-09 18:38:01.168674+00:00 FINISH BEST-EFFORT WAL CATCHUP 2800 0:01:04.070341 ELAPSED\n",
      "2025-09-09 18:38:55.145307+00:00 SNAPSHOT SWITCH 2806\n",
      "2025-09-09 18:40:14.274457+00:00 SNAPSHOT START 2900\n",
      "2025-09-09 18:49:58.675944+00:00 SNAPSHOT END 2900 0:09:44.401487 ELAPSED\n",
      "2025-09-09 18:59:32.108222+00:00 FINISH BEST-EFFORT WAL CATCHUP 2900 0:19:17.833765 ELAPSED\n",
      "2025-09-09 19:05:37.643309+00:00 SNAPSHOT SWITCH 3597\n",
      "2025-09-09 19:05:40.354597+00:00 SNAPSHOT START 3600\n",
      "2025-09-09 19:25:35.129125+00:00 SNAPSHOT END 3600 0:19:54.774528 ELAPSED\n",
      "2025-09-09 19:56:39.809254+00:00 FINISH BEST-EFFORT WAL CATCHUP 3600 0:50:59.454657 ELAPSED\n"
     ]
    }
   ],
   "execution_count": 51
  },
  {
   "metadata": {
    "ExecuteTime": {
     "end_time": "2025-09-09T21:04:25.353156Z",
     "start_time": "2025-09-09T21:04:25.302607Z"
    }
   },
   "cell_type": "code",
   "source": "snapshots",
   "id": "562fb17da70e3170",
   "outputs": [
    {
     "data": {
      "text/plain": [
       "shape: (30, 6)\n",
       "┌─────────┬─────────────────┬─────────────────┬─────────────────┬─────────────────┬────────────────┐\n",
       "│ version ┆ start           ┆ end             ┆ wal_catchup     ┆ switch_time     ┆ switch_version │\n",
       "│ ---     ┆ ---             ┆ ---             ┆ ---             ┆ ---             ┆ ---            │\n",
       "│ i64     ┆ datetime[μs,    ┆ datetime[μs,    ┆ datetime[μs,    ┆ datetime[μs,    ┆ i64            │\n",
       "│         ┆ UTC]            ┆ UTC]            ┆ UTC]            ┆ UTC]            ┆                │\n",
       "╞═════════╪═════════════════╪═════════════════╪═════════════════╪═════════════════╪════════════════╡\n",
       "│ 100     ┆ 2025-09-09      ┆ 2025-09-09      ┆ 2025-09-09      ┆ 2025-09-09      ┆ 112            │\n",
       "│         ┆ 17:58:56.671489 ┆ 17:58:59.621843 ┆ 17:59:01.156508 ┆ 17:59:02.687640 ┆                │\n",
       "│         ┆ UTC             ┆ UTC             ┆ UTC             ┆ UTC             ┆                │\n",
       "│ 200     ┆ 2025-09-09      ┆ 2025-09-09      ┆ 2025-09-09      ┆ 2025-09-09      ┆ 221            │\n",
       "│         ┆ 17:59:28.413426 ┆ 17:59:33.319810 ┆ 17:59:36.012194 ┆ 17:59:38.728401 ┆                │\n",
       "│         ┆ UTC             ┆ UTC             ┆ UTC             ┆ UTC             ┆                │\n",
       "│ 300     ┆ 2025-09-09      ┆ 2025-09-09      ┆ 2025-09-09      ┆ 2025-09-09      ┆ 326            │\n",
       "│         ┆ 18:00:02.983921 ┆ 18:00:10.125621 ┆ 18:00:13.589576 ┆ 18:00:16.868921 ┆                │\n",
       "│         ┆ UTC             ┆ UTC             ┆ UTC             ┆ UTC             ┆                │\n",
       "│ 400     ┆ 2025-09-09      ┆ 2025-09-09      ┆ 2025-09-09      ┆ 2025-09-09      ┆ 429            │\n",
       "│         ┆ 18:00:40.033424 ┆ 18:00:48.656545 ┆ 18:00:52.716552 ┆ 18:00:56.345947 ┆                │\n",
       "│         ┆ UTC             ┆ UTC             ┆ UTC             ┆ UTC             ┆                │\n",
       "│ 500     ┆ 2025-09-09      ┆ 2025-09-09      ┆ 2025-09-09      ┆ 2025-09-09      ┆ 537            │\n",
       "│         ┆ 18:01:18.629766 ┆ 18:01:28.799400 ┆ 18:01:34.219341 ┆ 18:01:38.561582 ┆                │\n",
       "│         ┆ UTC             ┆ UTC             ┆ UTC             ┆ UTC             ┆                │\n",
       "│ …       ┆ …               ┆ …               ┆ …               ┆ …               ┆ …              │\n",
       "│ 2600    ┆ 2025-09-09      ┆ 2025-09-09      ┆ 2025-09-09      ┆ 2025-09-09      ┆ 2608           │\n",
       "│         ┆ 18:31:34.196718 ┆ 18:32:32.573502 ┆ 18:32:35.316099 ┆ 18:33:14.844786 ┆                │\n",
       "│         ┆ UTC             ┆ UTC             ┆ UTC             ┆ UTC             ┆                │\n",
       "│ 2700    ┆ 2025-09-09      ┆ 2025-09-09      ┆ 2025-09-09      ┆ 2025-09-09      ┆ 2706           │\n",
       "│         ┆ 18:34:27.279331 ┆ 18:35:24.491508 ┆ 18:35:26.415380 ┆ 18:35:40.318545 ┆                │\n",
       "│         ┆ UTC             ┆ UTC             ┆ UTC             ┆ UTC             ┆                │\n",
       "│ 2800    ┆ 2025-09-09      ┆ 2025-09-09      ┆ 2025-09-09      ┆ 2025-09-09      ┆ 2806           │\n",
       "│         ┆ 18:36:57.098333 ┆ 18:37:59.141726 ┆ 18:38:01.168674 ┆ 18:38:55.145307 ┆                │\n",
       "│         ┆ UTC             ┆ UTC             ┆ UTC             ┆ UTC             ┆                │\n",
       "│ 2900    ┆ 2025-09-09      ┆ 2025-09-09      ┆ 2025-09-09      ┆ 2025-09-09      ┆ 3597           │\n",
       "│         ┆ 18:40:14.274457 ┆ 18:49:58.675944 ┆ 18:59:32.108222 ┆ 19:05:37.643309 ┆                │\n",
       "│         ┆ UTC             ┆ UTC             ┆ UTC             ┆ UTC             ┆                │\n",
       "│ 3600    ┆ 2025-09-09      ┆ 2025-09-09      ┆ 2025-09-09      ┆ null            ┆ null           │\n",
       "│         ┆ 19:05:40.354597 ┆ 19:25:35.129125 ┆ 19:56:39.809254 ┆                 ┆                │\n",
       "│         ┆ UTC             ┆ UTC             ┆ UTC             ┆                 ┆                │\n",
       "└─────────┴─────────────────┴─────────────────┴─────────────────┴─────────────────┴────────────────┘"
      ],
      "text/html": [
       "<div><style>\n",
       ".dataframe > thead > tr,\n",
       ".dataframe > tbody > tr {\n",
       "  text-align: right;\n",
       "  white-space: pre-wrap;\n",
       "}\n",
       "</style>\n",
       "<small>shape: (30, 6)</small><table border=\"1\" class=\"dataframe\"><thead><tr><th>version</th><th>start</th><th>end</th><th>wal_catchup</th><th>switch_time</th><th>switch_version</th></tr><tr><td>i64</td><td>datetime[μs, UTC]</td><td>datetime[μs, UTC]</td><td>datetime[μs, UTC]</td><td>datetime[μs, UTC]</td><td>i64</td></tr></thead><tbody><tr><td>100</td><td>2025-09-09 17:58:56.671489 UTC</td><td>2025-09-09 17:58:59.621843 UTC</td><td>2025-09-09 17:59:01.156508 UTC</td><td>2025-09-09 17:59:02.687640 UTC</td><td>112</td></tr><tr><td>200</td><td>2025-09-09 17:59:28.413426 UTC</td><td>2025-09-09 17:59:33.319810 UTC</td><td>2025-09-09 17:59:36.012194 UTC</td><td>2025-09-09 17:59:38.728401 UTC</td><td>221</td></tr><tr><td>300</td><td>2025-09-09 18:00:02.983921 UTC</td><td>2025-09-09 18:00:10.125621 UTC</td><td>2025-09-09 18:00:13.589576 UTC</td><td>2025-09-09 18:00:16.868921 UTC</td><td>326</td></tr><tr><td>400</td><td>2025-09-09 18:00:40.033424 UTC</td><td>2025-09-09 18:00:48.656545 UTC</td><td>2025-09-09 18:00:52.716552 UTC</td><td>2025-09-09 18:00:56.345947 UTC</td><td>429</td></tr><tr><td>500</td><td>2025-09-09 18:01:18.629766 UTC</td><td>2025-09-09 18:01:28.799400 UTC</td><td>2025-09-09 18:01:34.219341 UTC</td><td>2025-09-09 18:01:38.561582 UTC</td><td>537</td></tr><tr><td>&hellip;</td><td>&hellip;</td><td>&hellip;</td><td>&hellip;</td><td>&hellip;</td><td>&hellip;</td></tr><tr><td>2600</td><td>2025-09-09 18:31:34.196718 UTC</td><td>2025-09-09 18:32:32.573502 UTC</td><td>2025-09-09 18:32:35.316099 UTC</td><td>2025-09-09 18:33:14.844786 UTC</td><td>2608</td></tr><tr><td>2700</td><td>2025-09-09 18:34:27.279331 UTC</td><td>2025-09-09 18:35:24.491508 UTC</td><td>2025-09-09 18:35:26.415380 UTC</td><td>2025-09-09 18:35:40.318545 UTC</td><td>2706</td></tr><tr><td>2800</td><td>2025-09-09 18:36:57.098333 UTC</td><td>2025-09-09 18:37:59.141726 UTC</td><td>2025-09-09 18:38:01.168674 UTC</td><td>2025-09-09 18:38:55.145307 UTC</td><td>2806</td></tr><tr><td>2900</td><td>2025-09-09 18:40:14.274457 UTC</td><td>2025-09-09 18:49:58.675944 UTC</td><td>2025-09-09 18:59:32.108222 UTC</td><td>2025-09-09 19:05:37.643309 UTC</td><td>3597</td></tr><tr><td>3600</td><td>2025-09-09 19:05:40.354597 UTC</td><td>2025-09-09 19:25:35.129125 UTC</td><td>2025-09-09 19:56:39.809254 UTC</td><td>null</td><td>null</td></tr></tbody></table></div>"
      ]
     },
     "execution_count": 52,
     "metadata": {},
     "output_type": "execute_result"
    }
   ],
   "execution_count": 52
  },
  {
   "metadata": {
    "ExecuteTime": {
     "end_time": "2025-09-09T21:07:36.201901Z",
     "start_time": "2025-09-09T21:07:36.193079Z"
    }
   },
   "cell_type": "code",
   "source": "snapshots.select(\"version\", pl.col(\"switch_time\") - pl.col(\"start\"))",
   "id": "c80b1d0ac0e705f4",
   "outputs": [
    {
     "data": {
      "text/plain": [
       "shape: (30, 2)\n",
       "┌─────────┬──────────────────┐\n",
       "│ version ┆ switch_time      │\n",
       "│ ---     ┆ ---              │\n",
       "│ i64     ┆ duration[μs]     │\n",
       "╞═════════╪══════════════════╡\n",
       "│ 100     ┆ 6s 16151µs       │\n",
       "│ 200     ┆ 10s 314975µs     │\n",
       "│ 300     ┆ 13s 885ms        │\n",
       "│ 400     ┆ 16s 312523µs     │\n",
       "│ 500     ┆ 19s 931816µs     │\n",
       "│ …       ┆ …                │\n",
       "│ 2600    ┆ 1m 40s 648068µs  │\n",
       "│ 2700    ┆ 1m 13s 39214µs   │\n",
       "│ 2800    ┆ 1m 58s 46974µs   │\n",
       "│ 2900    ┆ 25m 23s 368852µs │\n",
       "│ 3600    ┆ null             │\n",
       "└─────────┴──────────────────┘"
      ],
      "text/html": [
       "<div><style>\n",
       ".dataframe > thead > tr,\n",
       ".dataframe > tbody > tr {\n",
       "  text-align: right;\n",
       "  white-space: pre-wrap;\n",
       "}\n",
       "</style>\n",
       "<small>shape: (30, 2)</small><table border=\"1\" class=\"dataframe\"><thead><tr><th>version</th><th>switch_time</th></tr><tr><td>i64</td><td>duration[μs]</td></tr></thead><tbody><tr><td>100</td><td>6s 16151µs</td></tr><tr><td>200</td><td>10s 314975µs</td></tr><tr><td>300</td><td>13s 885ms</td></tr><tr><td>400</td><td>16s 312523µs</td></tr><tr><td>500</td><td>19s 931816µs</td></tr><tr><td>&hellip;</td><td>&hellip;</td></tr><tr><td>2600</td><td>1m 40s 648068µs</td></tr><tr><td>2700</td><td>1m 13s 39214µs</td></tr><tr><td>2800</td><td>1m 58s 46974µs</td></tr><tr><td>2900</td><td>25m 23s 368852µs</td></tr><tr><td>3600</td><td>null</td></tr></tbody></table></div>"
      ]
     },
     "execution_count": 54,
     "metadata": {},
     "output_type": "execute_result"
    }
   ],
   "execution_count": 54
  }
 ],
 "metadata": {
  "kernelspec": {
   "display_name": "Python 3",
   "language": "python",
   "name": "python3"
  },
  "language_info": {
   "codemirror_mode": {
    "name": "ipython",
    "version": 2
   },
   "file_extension": ".py",
   "mimetype": "text/x-python",
   "name": "python",
   "nbconvert_exporter": "python",
   "pygments_lexer": "ipython2",
   "version": "2.7.6"
  }
 },
 "nbformat": 4,
 "nbformat_minor": 5
}
