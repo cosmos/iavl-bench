{
 "cells": [
  {
   "cell_type": "code",
   "id": "initial_id",
   "metadata": {
    "collapsed": true,
    "ExecuteTime": {
     "end_time": "2025-09-15T15:22:37.578416Z",
     "start_time": "2025-09-15T15:22:37.015657Z"
    }
   },
   "source": [
    "from analysis.read_logs import load_benchmark_dir_dict\n",
    "import polars as pl\n",
    "import plotly.express as px\n",
    "from analysis.analysis import summary, plot_ops_per_sec, plot_mem, plot_disk_usage"
   ],
   "outputs": [],
   "execution_count": 1
  },
  {
   "metadata": {
    "ExecuteTime": {
     "end_time": "2025-09-15T15:23:25.294497Z",
     "start_time": "2025-09-15T15:22:37.816098Z"
    }
   },
   "cell_type": "code",
   "source": "mixed_small = load_benchmark_dir_dict(\"/Users/arc/iavl-bench-data/run-mixed-small\")",
   "id": "92499fb9d8a5627f",
   "outputs": [],
   "execution_count": 2
  },
  {
   "metadata": {
    "ExecuteTime": {
     "end_time": "2025-09-15T15:23:35.609024Z",
     "start_time": "2025-09-15T15:23:35.602100Z"
    }
   },
   "cell_type": "code",
   "source": "summary(mixed_small, ['iavl-v1', 'iavl-v2-alpha6', 'memiavl'])",
   "id": "7febda6cba939deb",
   "outputs": [
    {
     "data": {
      "text/plain": [
       "shape: (3, 4)\n",
       "┌────────────────┬──────────────┬────────────┬─────────────┐\n",
       "│ name           ┆ ops_per_sec  ┆ max_mem_gb ┆ max_disk_gb │\n",
       "│ ---            ┆ ---          ┆ ---        ┆ ---         │\n",
       "│ str            ┆ f64          ┆ f64        ┆ f64         │\n",
       "╞════════════════╪══════════════╪════════════╪═════════════╡\n",
       "│ iavl-v1        ┆ 4742.310918  ┆ 1.559486   ┆ 153.0       │\n",
       "│ iavl-v2-alpha6 ┆ 10644.822227 ┆ 0.996339   ┆ 50.0        │\n",
       "│ memiavl        ┆ 20543.653772 ┆ 14.627673  ┆ 26.0        │\n",
       "└────────────────┴──────────────┴────────────┴─────────────┘"
      ],
      "text/html": [
       "<div><style>\n",
       ".dataframe > thead > tr,\n",
       ".dataframe > tbody > tr {\n",
       "  text-align: right;\n",
       "  white-space: pre-wrap;\n",
       "}\n",
       "</style>\n",
       "<small>shape: (3, 4)</small><table border=\"1\" class=\"dataframe\"><thead><tr><th>name</th><th>ops_per_sec</th><th>max_mem_gb</th><th>max_disk_gb</th></tr><tr><td>str</td><td>f64</td><td>f64</td><td>f64</td></tr></thead><tbody><tr><td>&quot;iavl-v1&quot;</td><td>4742.310918</td><td>1.559486</td><td>153.0</td></tr><tr><td>&quot;iavl-v2-alpha6&quot;</td><td>10644.822227</td><td>0.996339</td><td>50.0</td></tr><tr><td>&quot;memiavl&quot;</td><td>20543.653772</td><td>14.627673</td><td>26.0</td></tr></tbody></table></div>"
      ]
     },
     "execution_count": 3,
     "metadata": {},
     "output_type": "execute_result"
    }
   ],
   "execution_count": 3
  },
  {
   "metadata": {
    "ExecuteTime": {
     "end_time": "2025-09-15T15:23:49.515149Z",
     "start_time": "2025-09-15T15:23:46.375024Z"
    }
   },
   "cell_type": "code",
   "source": "plot_ops_per_sec(mixed_small, ['iavl-v1', 'iavl-v2-alpha6', 'memiavl'])",
   "id": "1e6b17c7e25e10af",
   "outputs": [
    {
     "data": {
      "application/vnd.plotly.v1+json": {
       "data": [
        {
         "mode": "lines",
         "name": "iavl-v1",
         "x": {
          "dtype": "f8",
          "bdata": "AAAAAAAAWUAAAAAAAABpQAAAAAAAwHJAAAAAAAAAeUAAAAAAAEB/QAAAAAAAwIJAAAAAAADghUAAAAAAAACJQAAAAAAAIIxAAAAAAABAj0AAAAAAADCRQAAAAAAAwJJAAAAAAABQlEAAAAAAAOCVQAAAAAAAcJdAAAAAAAAAmUAAAAAAAJCaQAAAAAAAIJxAAAAAAACwnUAAAAAAAECfQAAAAAAAaKBAAAAAAAAwoUAAAAAAAPihQAAAAAAAwKJAAAAAAACIo0AAAAAAAFCkQAAAAAAAGKVAAAAAAADgpUAAAAAAAKimQAAAAAAAcKdAAAAAAAA4qEAAAAAAAACpQAAAAAAAyKlAAAAAAACQqkAAAAAAAFirQAAAAAAAIKxAAAAAAADorEAAAAAAALCtQAAAAAAAeK5AAAAAAABAr0AAAAAAAASwQAAAAAAAaLBAAAAAAADMsEAAAAAAADCxQAAAAAAAlLFAAAAAAAD4sUAAAAAAAFyyQAAAAAAAwLJAAAAAAAAks0AAAAAAAIizQAAAAAAA7LNAAAAAAABQtEAAAAAAALS0QAAAAAAAGLVAAAAAAAB8tUAAAAAAAOC1QAAAAAAARLZAAAAAAACotkAAAAAAAAy3QAAAAAAAcLdAAAAAAADUt0AAAAAAADi4QAAAAAAAnLhAAAAAAAAAuUAAAAAAAGS5QAAAAAAAyLlAAAAAAAAsukAAAAAAAJC6QAAAAAAA9LpAAAAAAABYu0AAAAAAALy7QAAAAAAAILxAAAAAAACEvEAAAAAAAOi8QAAAAAAATL1AAAAAAACwvUAAAAAAABS+QAAAAAAAeL5AAAAAAADcvkAAAAAAAEC/QAAAAAAApL9AAAAAAAAEwEAAAAAAADbAQAAAAAAAaMBAAAAAAACawEAAAAAAAMzAQAAAAAAA/sBAAAAAAAAwwUAAAAAAAGLBQAAAAAAAlMFAAAAAAADGwUAAAAAAAPjBQAAAAAAAKsJAAAAAAABcwkAAAAAAAI7CQAAAAAAAwMJAAAAAAADywkAAAAAAACTDQAAAAAAAVsNAAAAAAACIw0A="
         },
         "y": {
          "dtype": "f8",
          "bdata": "M3xm79I/uEDjm7fT5S65QDdcSceVubhA7zJiAXAguECWEeuZ2PK3QB7729SQ4LdAvb0CI2hJt0Cb+idklx+3QCvRbYFpMLdA0GR6UMkSt0C0j8fMBKa2QFmbLvkGprZABuvXDCFctkBJst0ejAW2QOMyfEtl8rVAqGJTGFGAtUD+uUfIYfq0QNnQHyxDsbRAoyftxy1htEBgXPo7jK60QNVrpRfZJ7VASXuJIuSVtECb8V3v0Be0QN+zB2hpKbRAz2LSuG/Bs0BZHto4FjC0QBDcFYYRUrRAs8qvzuR3tECed+kfaD+0QCCL9Td8T7RAXThEzkcVtEC5pK4rwfSzQL9UxD6z+7NAjKsnc1UCtEAbRVonH66zQAjcQrigy7NAKxp0n3qWs0AuNIyc7VSzQO3bm7pSabNAHbo4bMsqs0B1meQCV0SzQFtOWMdPN7NAXOnc9csbs0D1oMiB/xSzQEW2vBCiCrNAvoFJSVvNskArkPAABZKyQAs/PwN/g7JAAZ5uTd6iskAxeMw254myQBaQFFN0f7JAVCNvNOhuskDNxyIDgX+yQMlz3ZOBTbJAdFtq3XQ+skCQhi+gwx6yQPg6BQ2xJbJACxFzMgcIskBOuOlh+PexQBT4e8zi6bFAMMBxQpbUsUAXMchvZMixQN9t/xtks7FAsern5By9sUDBvvVHUaaxQAMNH2JKgbFAIOEWZPinsECKx1D511yxQOhTIUWkaLFAPMh6Rd1NsUDXuqkqOjmxQAmEM4bMObFAzcSVoTQzsUC838DZHCGxQIzqKfBZJbFATe/V5agSsUC04Oz8P7qwQB2KsswNY7BA0wJs/wJxsEC7fUy6Bs+wQPhvmyGVy7BAB74gQQ22sECJ4IX0u5awQAIt7WDAi7BAIlKGyed6sEBBOJJ4kmewQDTTKjnGZ7BAn2HiEC5fsEDHAwzJkDywQC+zY9+sELBAxLQKr1MesEADHj04sOivQMPYuv/Laa5ALO6zcGK9rED2qJ1rEvCtQLb3l8dBD6xAMfAnqLhLrED3+XeIHUuuQPBUMCMQva1Au1T+BtBErUA="
         },
         "type": "scatter"
        },
        {
         "mode": "lines",
         "name": "iavl-v2-alpha6",
         "x": {
          "dtype": "f8",
          "bdata": "AAAAAAAAWUAAAAAAAABpQAAAAAAAwHJAAAAAAAAAeUAAAAAAAEB/QAAAAAAAwIJAAAAAAADghUAAAAAAAACJQAAAAAAAIIxAAAAAAABAj0AAAAAAADCRQAAAAAAAwJJAAAAAAABQlEAAAAAAAOCVQAAAAAAAcJdAAAAAAAAAmUAAAAAAAJCaQAAAAAAAIJxAAAAAAACwnUAAAAAAAECfQAAAAAAAaKBAAAAAAAAwoUAAAAAAAPihQAAAAAAAwKJAAAAAAACIo0AAAAAAAFCkQAAAAAAAGKVAAAAAAADgpUAAAAAAAKimQAAAAAAAcKdAAAAAAAA4qEAAAAAAAACpQAAAAAAAyKlAAAAAAACQqkAAAAAAAFirQAAAAAAAIKxAAAAAAADorEAAAAAAALCtQAAAAAAAeK5AAAAAAABAr0AAAAAAAASwQAAAAAAAaLBAAAAAAADMsEAAAAAAADCxQAAAAAAAlLFAAAAAAAD4sUAAAAAAAFyyQAAAAAAAwLJAAAAAAAAks0AAAAAAAIizQAAAAAAA7LNAAAAAAABQtEAAAAAAALS0QAAAAAAAGLVAAAAAAAB8tUAAAAAAAOC1QAAAAAAARLZAAAAAAACotkAAAAAAAAy3QAAAAAAAcLdAAAAAAADUt0AAAAAAADi4QAAAAAAAnLhAAAAAAAAAuUAAAAAAAGS5QAAAAAAAyLlAAAAAAAAsukAAAAAAAJC6QAAAAAAA9LpAAAAAAABYu0AAAAAAALy7QAAAAAAAILxAAAAAAACEvEAAAAAAAOi8QAAAAAAATL1AAAAAAACwvUAAAAAAABS+QAAAAAAAeL5AAAAAAADcvkAAAAAAAEC/QAAAAAAApL9AAAAAAAAEwEAAAAAAADbAQAAAAAAAaMBAAAAAAACawEAAAAAAAMzAQAAAAAAA/sBAAAAAAAAwwUAAAAAAAGLBQAAAAAAAlMFAAAAAAADGwUAAAAAAAPjBQAAAAAAAKsJAAAAAAABcwkAAAAAAAI7CQAAAAAAAwMJAAAAAAADywkAAAAAAACTDQAAAAAAAVsNAAAAAAACIw0A="
         },
         "y": {
          "dtype": "f8",
          "bdata": "zwzHfauew0CoG4Im/QbGQMRZLbJm68dA0LcVUu23xkDAO/OBeX/FQJWALOxJoMZAf6XnyWuPxkCa3PRQJLjFQJbbdL6OgMZAI4mAq4ATx0CwSMryrzrGQHxa7O2AW8ZA1M4zZyqAxkCgdaEF7nDGQP6lGji1d8ZAiBWC8TRDxUCIf/KI4QbHQB62JXRmKMZAneKXezw2xkDjtu6n9vfFQHrWczzeCsJA93rnFr/txUBwkiz5NrjFQI5D0w4ytsVAlcaowzbRxUAbvHWQvWXFQBEFXfuIvMVAAXPZkdGjxUDa5EkWAIvGQAAQnHMiJ8ZABvHaIGV5xEDsQnt1fOLFQKCi7ugg2sVAi2W5JnYkxkAmyyA0VtzFQPI2yspiccVAEZZBEEO0xEAu7oiDmBrGQLRH2wQ3M8VA8JijroU0xUAkMMalLjS/QEB4e8u6E8VAigs20+9rxUD/4dNQ90HFQJkZt6gQxcVAQi2efczXxUAGofBR2X7FQHhwYRnarMVAAm1nflxBxUCFiCuW8JDFQJkg7rhpEMNA76MLc0vBxUCwR2rGC23FQFm2XNzoOsVAyIIbDwCVxUAlIGX8gebEQHn4E7av5sRABh85O0bJxEBJIhOwgr3EQEtY6ApzbsRAbrKHkjJOvUC2naUESQPDQDGdBeI448RARCDOoS6JxECvnwnqnADFQO+FmkFJQMRA5iEoTZPsxEDk8mg3yavEQFdzsRyp6cVAS1sBe+0ExUCmJDmN8AbCQEiYeoMWqMVATZwhW8xmxEA/ApDlHxfEQG0Zudt+bcRAddCg/eGRw0Dkbfd8WSjEQFDZXGtCE8RAz82LV+tYxECwNRMcY3nEQODp4u/iBLtA1QXdZMjCw0DDEKpzw1vEQCch1ZBIEMRAysj5jbauw0BRdRh3SM3EQMcjLtNx18RAfolbwxl+xECZ75AuZs7EQF525awIRcVA3ffja90awkDd+hUcQjnFQADBs99fvsRAR7TQwKp5xEBAwIp1K2HEQNKwxmj34cNAxqxdicQwxEBZTk4bDVfEQCzerLmbN8RAU0JL9N4FxEA="
         },
         "type": "scatter"
        },
        {
         "mode": "lines",
         "name": "memiavl",
         "x": {
          "dtype": "f8",
          "bdata": "AAAAAAAAWUAAAAAAAABpQAAAAAAAwHJAAAAAAAAAeUAAAAAAAEB/QAAAAAAAwIJAAAAAAADghUAAAAAAAACJQAAAAAAAIIxAAAAAAABAj0AAAAAAADCRQAAAAAAAwJJAAAAAAABQlEAAAAAAAOCVQAAAAAAAcJdAAAAAAAAAmUAAAAAAAJCaQAAAAAAAIJxAAAAAAACwnUAAAAAAAECfQAAAAAAAaKBAAAAAAAAwoUAAAAAAAPihQAAAAAAAwKJAAAAAAACIo0AAAAAAAFCkQAAAAAAAGKVAAAAAAADgpUAAAAAAAKimQAAAAAAAcKdAAAAAAAA4qEAAAAAAAACpQAAAAAAAyKlAAAAAAACQqkAAAAAAAFirQAAAAAAAIKxAAAAAAADorEAAAAAAALCtQAAAAAAAeK5AAAAAAABAr0AAAAAAAASwQAAAAAAAaLBAAAAAAADMsEAAAAAAADCxQAAAAAAAlLFAAAAAAAD4sUAAAAAAAFyyQAAAAAAAwLJAAAAAAAAks0AAAAAAAIizQAAAAAAA7LNAAAAAAABQtEAAAAAAALS0QAAAAAAAGLVAAAAAAAB8tUAAAAAAAOC1QAAAAAAARLZAAAAAAACotkAAAAAAAAy3QAAAAAAAcLdAAAAAAADUt0AAAAAAADi4QAAAAAAAnLhAAAAAAAAAuUAAAAAAAGS5QAAAAAAAyLlAAAAAAAAsukAAAAAAAJC6QAAAAAAA9LpAAAAAAABYu0AAAAAAALy7QAAAAAAAILxAAAAAAACEvEAAAAAAAOi8QAAAAAAATL1AAAAAAACwvUAAAAAAABS+QAAAAAAAeL5AAAAAAADcvkAAAAAAAEC/QAAAAAAApL9AAAAAAAAEwEAAAAAAADbAQAAAAAAAaMBAAAAAAACawEAAAAAAAMzAQAAAAAAA/sBAAAAAAAAwwUAAAAAAAGLBQAAAAAAAlMFAAAAAAADGwUAAAAAAAPjBQAAAAAAAKsJAAAAAAABcwkAAAAAAAI7CQAAAAAAAwMJAAAAAAADywkAAAAAAACTDQAAAAAAAVsNAAAAAAACIw0A="
         },
         "y": {
          "dtype": "f8",
          "bdata": "MlDbJOa0yEDN83sTcMfUQP6PzSNqQdVA4jjDwOF01EDgxprOBrXVQPUEXscwDtZAhNKvIDtW1UA415vLB37VQJkv7bvHEtZANVERl+sH1kATVr+OonrSQGaGCOdcb9ZAxZTErhzW1UBT7QxriP/VQJonP9EPC9ZAbVtBh6Vf1kC0G+3BlCXWQJ+9NvMSmdVAxcIyoVXo1kAp7iDQqdXWQIVlSvH9v9FAKF8SCuaW1UBI1aminl3VQLVkdwlLMdZAEVy6ulNA1kBIZGeIm2nVQK7SAgnKoNVA0Mc9SULK1UAoWmBUPH3VQDG08g5Ef9VATUxmw/1p0UCmqTEaE9PUQJt7SjfIC9VA7Y5jV19P20BLbhMhZInVQM5lhmKl+9RAKIshUGwp1UAJGB/lTNHUQOs1MZVe2dRA/8ZvGF4n1UD0o/rInCPRQNObPfohk9RASRj5T2ZR1EAj2g+urMXUQHQPuKKihtRA3s2Gq/KV1ECmrpKoRr3aQFqRh3K96NdAmPHMhnqk1UB6VPDcoTPVQBg2SflNV9FAEdqmdsLO1kBmousHFwbaQI4ND1TNM9RAPTPhcs1b1ECzf/Tjt5XUQDnpq6O+YNRAwnLf4CUt1EAapd2EyTPUQKzs9ifsW9RA6q3TgFBqz0A6RTANcqjTQAKdBKNjAdRARkNczmF500DUOTLLcs/TQGso/LlWR9VAFbI2pi9C1EBxN+Y5xjrUQOyuDMuOvNNAAcuzoODu00C0COfQ36TQQE0jriH899JAeHlp4HPx0kCL59ak2MnSQFsDyK3eHtNAgYYKEuhr00CYutCNY1nTQKsOv4DkT9NApokvmkBx00AKzXyElWHTQGQ47UigA85AcpXHB6vP0kA74EAYvATTQG8kD9gom9NAQ8y60qOV00AkXHfBcRjTQHUsivCFmdNAmOTZ1OEC1EBk+pU+yMfUQFv79/jeX9RAZ9RDmgK8zUCHFvvSd6zUQD4cXhQnEdNAzS9MEY540kD/5dMA3jTSQIBy+vADV9JA3Flsj+a50kBAzyUOabLSQCx2W5nX0dJA1mbLth0d00A="
         },
         "type": "scatter"
        }
       ],
       "layout": {
        "template": {
         "data": {
          "histogram2dcontour": [
           {
            "type": "histogram2dcontour",
            "colorbar": {
             "outlinewidth": 0,
             "ticks": ""
            },
            "colorscale": [
             [
              0.0,
              "#0d0887"
             ],
             [
              0.1111111111111111,
              "#46039f"
             ],
             [
              0.2222222222222222,
              "#7201a8"
             ],
             [
              0.3333333333333333,
              "#9c179e"
             ],
             [
              0.4444444444444444,
              "#bd3786"
             ],
             [
              0.5555555555555556,
              "#d8576b"
             ],
             [
              0.6666666666666666,
              "#ed7953"
             ],
             [
              0.7777777777777778,
              "#fb9f3a"
             ],
             [
              0.8888888888888888,
              "#fdca26"
             ],
             [
              1.0,
              "#f0f921"
             ]
            ]
           }
          ],
          "choropleth": [
           {
            "type": "choropleth",
            "colorbar": {
             "outlinewidth": 0,
             "ticks": ""
            }
           }
          ],
          "histogram2d": [
           {
            "type": "histogram2d",
            "colorbar": {
             "outlinewidth": 0,
             "ticks": ""
            },
            "colorscale": [
             [
              0.0,
              "#0d0887"
             ],
             [
              0.1111111111111111,
              "#46039f"
             ],
             [
              0.2222222222222222,
              "#7201a8"
             ],
             [
              0.3333333333333333,
              "#9c179e"
             ],
             [
              0.4444444444444444,
              "#bd3786"
             ],
             [
              0.5555555555555556,
              "#d8576b"
             ],
             [
              0.6666666666666666,
              "#ed7953"
             ],
             [
              0.7777777777777778,
              "#fb9f3a"
             ],
             [
              0.8888888888888888,
              "#fdca26"
             ],
             [
              1.0,
              "#f0f921"
             ]
            ]
           }
          ],
          "heatmap": [
           {
            "type": "heatmap",
            "colorbar": {
             "outlinewidth": 0,
             "ticks": ""
            },
            "colorscale": [
             [
              0.0,
              "#0d0887"
             ],
             [
              0.1111111111111111,
              "#46039f"
             ],
             [
              0.2222222222222222,
              "#7201a8"
             ],
             [
              0.3333333333333333,
              "#9c179e"
             ],
             [
              0.4444444444444444,
              "#bd3786"
             ],
             [
              0.5555555555555556,
              "#d8576b"
             ],
             [
              0.6666666666666666,
              "#ed7953"
             ],
             [
              0.7777777777777778,
              "#fb9f3a"
             ],
             [
              0.8888888888888888,
              "#fdca26"
             ],
             [
              1.0,
              "#f0f921"
             ]
            ]
           }
          ],
          "contourcarpet": [
           {
            "type": "contourcarpet",
            "colorbar": {
             "outlinewidth": 0,
             "ticks": ""
            }
           }
          ],
          "contour": [
           {
            "type": "contour",
            "colorbar": {
             "outlinewidth": 0,
             "ticks": ""
            },
            "colorscale": [
             [
              0.0,
              "#0d0887"
             ],
             [
              0.1111111111111111,
              "#46039f"
             ],
             [
              0.2222222222222222,
              "#7201a8"
             ],
             [
              0.3333333333333333,
              "#9c179e"
             ],
             [
              0.4444444444444444,
              "#bd3786"
             ],
             [
              0.5555555555555556,
              "#d8576b"
             ],
             [
              0.6666666666666666,
              "#ed7953"
             ],
             [
              0.7777777777777778,
              "#fb9f3a"
             ],
             [
              0.8888888888888888,
              "#fdca26"
             ],
             [
              1.0,
              "#f0f921"
             ]
            ]
           }
          ],
          "surface": [
           {
            "type": "surface",
            "colorbar": {
             "outlinewidth": 0,
             "ticks": ""
            },
            "colorscale": [
             [
              0.0,
              "#0d0887"
             ],
             [
              0.1111111111111111,
              "#46039f"
             ],
             [
              0.2222222222222222,
              "#7201a8"
             ],
             [
              0.3333333333333333,
              "#9c179e"
             ],
             [
              0.4444444444444444,
              "#bd3786"
             ],
             [
              0.5555555555555556,
              "#d8576b"
             ],
             [
              0.6666666666666666,
              "#ed7953"
             ],
             [
              0.7777777777777778,
              "#fb9f3a"
             ],
             [
              0.8888888888888888,
              "#fdca26"
             ],
             [
              1.0,
              "#f0f921"
             ]
            ]
           }
          ],
          "mesh3d": [
           {
            "type": "mesh3d",
            "colorbar": {
             "outlinewidth": 0,
             "ticks": ""
            }
           }
          ],
          "scatter": [
           {
            "fillpattern": {
             "fillmode": "overlay",
             "size": 10,
             "solidity": 0.2
            },
            "type": "scatter"
           }
          ],
          "parcoords": [
           {
            "type": "parcoords",
            "line": {
             "colorbar": {
              "outlinewidth": 0,
              "ticks": ""
             }
            }
           }
          ],
          "scatterpolargl": [
           {
            "type": "scatterpolargl",
            "marker": {
             "colorbar": {
              "outlinewidth": 0,
              "ticks": ""
             }
            }
           }
          ],
          "bar": [
           {
            "error_x": {
             "color": "#2a3f5f"
            },
            "error_y": {
             "color": "#2a3f5f"
            },
            "marker": {
             "line": {
              "color": "#E5ECF6",
              "width": 0.5
             },
             "pattern": {
              "fillmode": "overlay",
              "size": 10,
              "solidity": 0.2
             }
            },
            "type": "bar"
           }
          ],
          "scattergeo": [
           {
            "type": "scattergeo",
            "marker": {
             "colorbar": {
              "outlinewidth": 0,
              "ticks": ""
             }
            }
           }
          ],
          "scatterpolar": [
           {
            "type": "scatterpolar",
            "marker": {
             "colorbar": {
              "outlinewidth": 0,
              "ticks": ""
             }
            }
           }
          ],
          "histogram": [
           {
            "marker": {
             "pattern": {
              "fillmode": "overlay",
              "size": 10,
              "solidity": 0.2
             }
            },
            "type": "histogram"
           }
          ],
          "scattergl": [
           {
            "type": "scattergl",
            "marker": {
             "colorbar": {
              "outlinewidth": 0,
              "ticks": ""
             }
            }
           }
          ],
          "scatter3d": [
           {
            "type": "scatter3d",
            "line": {
             "colorbar": {
              "outlinewidth": 0,
              "ticks": ""
             }
            },
            "marker": {
             "colorbar": {
              "outlinewidth": 0,
              "ticks": ""
             }
            }
           }
          ],
          "scattermap": [
           {
            "type": "scattermap",
            "marker": {
             "colorbar": {
              "outlinewidth": 0,
              "ticks": ""
             }
            }
           }
          ],
          "scattermapbox": [
           {
            "type": "scattermapbox",
            "marker": {
             "colorbar": {
              "outlinewidth": 0,
              "ticks": ""
             }
            }
           }
          ],
          "scatterternary": [
           {
            "type": "scatterternary",
            "marker": {
             "colorbar": {
              "outlinewidth": 0,
              "ticks": ""
             }
            }
           }
          ],
          "scattercarpet": [
           {
            "type": "scattercarpet",
            "marker": {
             "colorbar": {
              "outlinewidth": 0,
              "ticks": ""
             }
            }
           }
          ],
          "carpet": [
           {
            "aaxis": {
             "endlinecolor": "#2a3f5f",
             "gridcolor": "white",
             "linecolor": "white",
             "minorgridcolor": "white",
             "startlinecolor": "#2a3f5f"
            },
            "baxis": {
             "endlinecolor": "#2a3f5f",
             "gridcolor": "white",
             "linecolor": "white",
             "minorgridcolor": "white",
             "startlinecolor": "#2a3f5f"
            },
            "type": "carpet"
           }
          ],
          "table": [
           {
            "cells": {
             "fill": {
              "color": "#EBF0F8"
             },
             "line": {
              "color": "white"
             }
            },
            "header": {
             "fill": {
              "color": "#C8D4E3"
             },
             "line": {
              "color": "white"
             }
            },
            "type": "table"
           }
          ],
          "barpolar": [
           {
            "marker": {
             "line": {
              "color": "#E5ECF6",
              "width": 0.5
             },
             "pattern": {
              "fillmode": "overlay",
              "size": 10,
              "solidity": 0.2
             }
            },
            "type": "barpolar"
           }
          ],
          "pie": [
           {
            "automargin": true,
            "type": "pie"
           }
          ]
         },
         "layout": {
          "autotypenumbers": "strict",
          "colorway": [
           "#636efa",
           "#EF553B",
           "#00cc96",
           "#ab63fa",
           "#FFA15A",
           "#19d3f3",
           "#FF6692",
           "#B6E880",
           "#FF97FF",
           "#FECB52"
          ],
          "font": {
           "color": "#2a3f5f"
          },
          "hovermode": "closest",
          "hoverlabel": {
           "align": "left"
          },
          "paper_bgcolor": "white",
          "plot_bgcolor": "#E5ECF6",
          "polar": {
           "bgcolor": "#E5ECF6",
           "angularaxis": {
            "gridcolor": "white",
            "linecolor": "white",
            "ticks": ""
           },
           "radialaxis": {
            "gridcolor": "white",
            "linecolor": "white",
            "ticks": ""
           }
          },
          "ternary": {
           "bgcolor": "#E5ECF6",
           "aaxis": {
            "gridcolor": "white",
            "linecolor": "white",
            "ticks": ""
           },
           "baxis": {
            "gridcolor": "white",
            "linecolor": "white",
            "ticks": ""
           },
           "caxis": {
            "gridcolor": "white",
            "linecolor": "white",
            "ticks": ""
           }
          },
          "coloraxis": {
           "colorbar": {
            "outlinewidth": 0,
            "ticks": ""
           }
          },
          "colorscale": {
           "sequential": [
            [
             0.0,
             "#0d0887"
            ],
            [
             0.1111111111111111,
             "#46039f"
            ],
            [
             0.2222222222222222,
             "#7201a8"
            ],
            [
             0.3333333333333333,
             "#9c179e"
            ],
            [
             0.4444444444444444,
             "#bd3786"
            ],
            [
             0.5555555555555556,
             "#d8576b"
            ],
            [
             0.6666666666666666,
             "#ed7953"
            ],
            [
             0.7777777777777778,
             "#fb9f3a"
            ],
            [
             0.8888888888888888,
             "#fdca26"
            ],
            [
             1.0,
             "#f0f921"
            ]
           ],
           "sequentialminus": [
            [
             0.0,
             "#0d0887"
            ],
            [
             0.1111111111111111,
             "#46039f"
            ],
            [
             0.2222222222222222,
             "#7201a8"
            ],
            [
             0.3333333333333333,
             "#9c179e"
            ],
            [
             0.4444444444444444,
             "#bd3786"
            ],
            [
             0.5555555555555556,
             "#d8576b"
            ],
            [
             0.6666666666666666,
             "#ed7953"
            ],
            [
             0.7777777777777778,
             "#fb9f3a"
            ],
            [
             0.8888888888888888,
             "#fdca26"
            ],
            [
             1.0,
             "#f0f921"
            ]
           ],
           "diverging": [
            [
             0,
             "#8e0152"
            ],
            [
             0.1,
             "#c51b7d"
            ],
            [
             0.2,
             "#de77ae"
            ],
            [
             0.3,
             "#f1b6da"
            ],
            [
             0.4,
             "#fde0ef"
            ],
            [
             0.5,
             "#f7f7f7"
            ],
            [
             0.6,
             "#e6f5d0"
            ],
            [
             0.7,
             "#b8e186"
            ],
            [
             0.8,
             "#7fbc41"
            ],
            [
             0.9,
             "#4d9221"
            ],
            [
             1,
             "#276419"
            ]
           ]
          },
          "xaxis": {
           "gridcolor": "white",
           "linecolor": "white",
           "ticks": "",
           "title": {
            "standoff": 15
           },
           "zerolinecolor": "white",
           "automargin": true,
           "zerolinewidth": 2
          },
          "yaxis": {
           "gridcolor": "white",
           "linecolor": "white",
           "ticks": "",
           "title": {
            "standoff": 15
           },
           "zerolinecolor": "white",
           "automargin": true,
           "zerolinewidth": 2
          },
          "scene": {
           "xaxis": {
            "backgroundcolor": "#E5ECF6",
            "gridcolor": "white",
            "linecolor": "white",
            "showbackground": true,
            "ticks": "",
            "zerolinecolor": "white",
            "gridwidth": 2
           },
           "yaxis": {
            "backgroundcolor": "#E5ECF6",
            "gridcolor": "white",
            "linecolor": "white",
            "showbackground": true,
            "ticks": "",
            "zerolinecolor": "white",
            "gridwidth": 2
           },
           "zaxis": {
            "backgroundcolor": "#E5ECF6",
            "gridcolor": "white",
            "linecolor": "white",
            "showbackground": true,
            "ticks": "",
            "zerolinecolor": "white",
            "gridwidth": 2
           }
          },
          "shapedefaults": {
           "line": {
            "color": "#2a3f5f"
           }
          },
          "annotationdefaults": {
           "arrowcolor": "#2a3f5f",
           "arrowhead": 0,
           "arrowwidth": 1
          },
          "geo": {
           "bgcolor": "white",
           "landcolor": "#E5ECF6",
           "subunitcolor": "white",
           "showland": true,
           "showlakes": true,
           "lakecolor": "white"
          },
          "title": {
           "x": 0.05
          },
          "mapbox": {
           "style": "light"
          }
         }
        },
        "xaxis": {
         "title": {
          "text": "Version"
         }
        },
        "yaxis": {
         "title": {
          "text": "Ops/Sec"
         }
        },
        "hovermode": "x unified"
       },
       "config": {
        "plotlyServerURL": "https://plot.ly"
       }
      }
     },
     "metadata": {},
     "output_type": "display_data"
    }
   ],
   "execution_count": 4
  },
  {
   "metadata": {
    "ExecuteTime": {
     "end_time": "2025-09-15T15:24:01.036675Z",
     "start_time": "2025-09-15T15:24:01.010326Z"
    }
   },
   "cell_type": "code",
   "source": "plot_mem(mixed_small, ['iavl-v1', 'iavl-v2-alpha6', 'memiavl'])",
   "id": "885b6557beaba936",
   "outputs": [
    {
     "data": {
      "application/vnd.plotly.v1+json": {
       "data": [
        {
         "mode": "lines",
         "name": "iavl-v1",
         "x": {
          "dtype": "i2",
          "bdata": "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"
         },
         "y": {
          "dtype": "f8",
          "bdata": "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"
         },
         "type": "scatter"
        },
        {
         "mode": "lines",
         "name": "iavl-v2-alpha6",
         "x": {
          "dtype": "i2",
          "bdata": "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"
         },
         "y": {
          "dtype": "f8",
          "bdata": "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"
         },
         "type": "scatter"
        },
        {
         "mode": "lines",
         "name": "memiavl",
         "x": {
          "dtype": "i2",
          "bdata": "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"
         },
         "y": {
          "dtype": "f8",
          "bdata": "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"
         },
         "type": "scatter"
        }
       ],
       "layout": {
        "template": {
         "data": {
          "histogram2dcontour": [
           {
            "type": "histogram2dcontour",
            "colorbar": {
             "outlinewidth": 0,
             "ticks": ""
            },
            "colorscale": [
             [
              0.0,
              "#0d0887"
             ],
             [
              0.1111111111111111,
              "#46039f"
             ],
             [
              0.2222222222222222,
              "#7201a8"
             ],
             [
              0.3333333333333333,
              "#9c179e"
             ],
             [
              0.4444444444444444,
              "#bd3786"
             ],
             [
              0.5555555555555556,
              "#d8576b"
             ],
             [
              0.6666666666666666,
              "#ed7953"
             ],
             [
              0.7777777777777778,
              "#fb9f3a"
             ],
             [
              0.8888888888888888,
              "#fdca26"
             ],
             [
              1.0,
              "#f0f921"
             ]
            ]
           }
          ],
          "choropleth": [
           {
            "type": "choropleth",
            "colorbar": {
             "outlinewidth": 0,
             "ticks": ""
            }
           }
          ],
          "histogram2d": [
           {
            "type": "histogram2d",
            "colorbar": {
             "outlinewidth": 0,
             "ticks": ""
            },
            "colorscale": [
             [
              0.0,
              "#0d0887"
             ],
             [
              0.1111111111111111,
              "#46039f"
             ],
             [
              0.2222222222222222,
              "#7201a8"
             ],
             [
              0.3333333333333333,
              "#9c179e"
             ],
             [
              0.4444444444444444,
              "#bd3786"
             ],
             [
              0.5555555555555556,
              "#d8576b"
             ],
             [
              0.6666666666666666,
              "#ed7953"
             ],
             [
              0.7777777777777778,
              "#fb9f3a"
             ],
             [
              0.8888888888888888,
              "#fdca26"
             ],
             [
              1.0,
              "#f0f921"
             ]
            ]
           }
          ],
          "heatmap": [
           {
            "type": "heatmap",
            "colorbar": {
             "outlinewidth": 0,
             "ticks": ""
            },
            "colorscale": [
             [
              0.0,
              "#0d0887"
             ],
             [
              0.1111111111111111,
              "#46039f"
             ],
             [
              0.2222222222222222,
              "#7201a8"
             ],
             [
              0.3333333333333333,
              "#9c179e"
             ],
             [
              0.4444444444444444,
              "#bd3786"
             ],
             [
              0.5555555555555556,
              "#d8576b"
             ],
             [
              0.6666666666666666,
              "#ed7953"
             ],
             [
              0.7777777777777778,
              "#fb9f3a"
             ],
             [
              0.8888888888888888,
              "#fdca26"
             ],
             [
              1.0,
              "#f0f921"
             ]
            ]
           }
          ],
          "contourcarpet": [
           {
            "type": "contourcarpet",
            "colorbar": {
             "outlinewidth": 0,
             "ticks": ""
            }
           }
          ],
          "contour": [
           {
            "type": "contour",
            "colorbar": {
             "outlinewidth": 0,
             "ticks": ""
            },
            "colorscale": [
             [
              0.0,
              "#0d0887"
             ],
             [
              0.1111111111111111,
              "#46039f"
             ],
             [
              0.2222222222222222,
              "#7201a8"
             ],
             [
              0.3333333333333333,
              "#9c179e"
             ],
             [
              0.4444444444444444,
              "#bd3786"
             ],
             [
              0.5555555555555556,
              "#d8576b"
             ],
             [
              0.6666666666666666,
              "#ed7953"
             ],
             [
              0.7777777777777778,
              "#fb9f3a"
             ],
             [
              0.8888888888888888,
              "#fdca26"
             ],
             [
              1.0,
              "#f0f921"
             ]
            ]
           }
          ],
          "surface": [
           {
            "type": "surface",
            "colorbar": {
             "outlinewidth": 0,
             "ticks": ""
            },
            "colorscale": [
             [
              0.0,
              "#0d0887"
             ],
             [
              0.1111111111111111,
              "#46039f"
             ],
             [
              0.2222222222222222,
              "#7201a8"
             ],
             [
              0.3333333333333333,
              "#9c179e"
             ],
             [
              0.4444444444444444,
              "#bd3786"
             ],
             [
              0.5555555555555556,
              "#d8576b"
             ],
             [
              0.6666666666666666,
              "#ed7953"
             ],
             [
              0.7777777777777778,
              "#fb9f3a"
             ],
             [
              0.8888888888888888,
              "#fdca26"
             ],
             [
              1.0,
              "#f0f921"
             ]
            ]
           }
          ],
          "mesh3d": [
           {
            "type": "mesh3d",
            "colorbar": {
             "outlinewidth": 0,
             "ticks": ""
            }
           }
          ],
          "scatter": [
           {
            "fillpattern": {
             "fillmode": "overlay",
             "size": 10,
             "solidity": 0.2
            },
            "type": "scatter"
           }
          ],
          "parcoords": [
           {
            "type": "parcoords",
            "line": {
             "colorbar": {
              "outlinewidth": 0,
              "ticks": ""
             }
            }
           }
          ],
          "scatterpolargl": [
           {
            "type": "scatterpolargl",
            "marker": {
             "colorbar": {
              "outlinewidth": 0,
              "ticks": ""
             }
            }
           }
          ],
          "bar": [
           {
            "error_x": {
             "color": "#2a3f5f"
            },
            "error_y": {
             "color": "#2a3f5f"
            },
            "marker": {
             "line": {
              "color": "#E5ECF6",
              "width": 0.5
             },
             "pattern": {
              "fillmode": "overlay",
              "size": 10,
              "solidity": 0.2
             }
            },
            "type": "bar"
           }
          ],
          "scattergeo": [
           {
            "type": "scattergeo",
            "marker": {
             "colorbar": {
              "outlinewidth": 0,
              "ticks": ""
             }
            }
           }
          ],
          "scatterpolar": [
           {
            "type": "scatterpolar",
            "marker": {
             "colorbar": {
              "outlinewidth": 0,
              "ticks": ""
             }
            }
           }
          ],
          "histogram": [
           {
            "marker": {
             "pattern": {
              "fillmode": "overlay",
              "size": 10,
              "solidity": 0.2
             }
            },
            "type": "histogram"
           }
          ],
          "scattergl": [
           {
            "type": "scattergl",
            "marker": {
             "colorbar": {
              "outlinewidth": 0,
              "ticks": ""
             }
            }
           }
          ],
          "scatter3d": [
           {
            "type": "scatter3d",
            "line": {
             "colorbar": {
              "outlinewidth": 0,
              "ticks": ""
             }
            },
            "marker": {
             "colorbar": {
              "outlinewidth": 0,
              "ticks": ""
             }
            }
           }
          ],
          "scattermap": [
           {
            "type": "scattermap",
            "marker": {
             "colorbar": {
              "outlinewidth": 0,
              "ticks": ""
             }
            }
           }
          ],
          "scattermapbox": [
           {
            "type": "scattermapbox",
            "marker": {
             "colorbar": {
              "outlinewidth": 0,
              "ticks": ""
             }
            }
           }
          ],
          "scatterternary": [
           {
            "type": "scatterternary",
            "marker": {
             "colorbar": {
              "outlinewidth": 0,
              "ticks": ""
             }
            }
           }
          ],
          "scattercarpet": [
           {
            "type": "scattercarpet",
            "marker": {
             "colorbar": {
              "outlinewidth": 0,
              "ticks": ""
             }
            }
           }
          ],
          "carpet": [
           {
            "aaxis": {
             "endlinecolor": "#2a3f5f",
             "gridcolor": "white",
             "linecolor": "white",
             "minorgridcolor": "white",
             "startlinecolor": "#2a3f5f"
            },
            "baxis": {
             "endlinecolor": "#2a3f5f",
             "gridcolor": "white",
             "linecolor": "white",
             "minorgridcolor": "white",
             "startlinecolor": "#2a3f5f"
            },
            "type": "carpet"
           }
          ],
          "table": [
           {
            "cells": {
             "fill": {
              "color": "#EBF0F8"
             },
             "line": {
              "color": "white"
             }
            },
            "header": {
             "fill": {
              "color": "#C8D4E3"
             },
             "line": {
              "color": "white"
             }
            },
            "type": "table"
           }
          ],
          "barpolar": [
           {
            "marker": {
             "line": {
              "color": "#E5ECF6",
              "width": 0.5
             },
             "pattern": {
              "fillmode": "overlay",
              "size": 10,
              "solidity": 0.2
             }
            },
            "type": "barpolar"
           }
          ],
          "pie": [
           {
            "automargin": true,
            "type": "pie"
           }
          ]
         },
         "layout": {
          "autotypenumbers": "strict",
          "colorway": [
           "#636efa",
           "#EF553B",
           "#00cc96",
           "#ab63fa",
           "#FFA15A",
           "#19d3f3",
           "#FF6692",
           "#B6E880",
           "#FF97FF",
           "#FECB52"
          ],
          "font": {
           "color": "#2a3f5f"
          },
          "hovermode": "closest",
          "hoverlabel": {
           "align": "left"
          },
          "paper_bgcolor": "white",
          "plot_bgcolor": "#E5ECF6",
          "polar": {
           "bgcolor": "#E5ECF6",
           "angularaxis": {
            "gridcolor": "white",
            "linecolor": "white",
            "ticks": ""
           },
           "radialaxis": {
            "gridcolor": "white",
            "linecolor": "white",
            "ticks": ""
           }
          },
          "ternary": {
           "bgcolor": "#E5ECF6",
           "aaxis": {
            "gridcolor": "white",
            "linecolor": "white",
            "ticks": ""
           },
           "baxis": {
            "gridcolor": "white",
            "linecolor": "white",
            "ticks": ""
           },
           "caxis": {
            "gridcolor": "white",
            "linecolor": "white",
            "ticks": ""
           }
          },
          "coloraxis": {
           "colorbar": {
            "outlinewidth": 0,
            "ticks": ""
           }
          },
          "colorscale": {
           "sequential": [
            [
             0.0,
             "#0d0887"
            ],
            [
             0.1111111111111111,
             "#46039f"
            ],
            [
             0.2222222222222222,
             "#7201a8"
            ],
            [
             0.3333333333333333,
             "#9c179e"
            ],
            [
             0.4444444444444444,
             "#bd3786"
            ],
            [
             0.5555555555555556,
             "#d8576b"
            ],
            [
             0.6666666666666666,
             "#ed7953"
            ],
            [
             0.7777777777777778,
             "#fb9f3a"
            ],
            [
             0.8888888888888888,
             "#fdca26"
            ],
            [
             1.0,
             "#f0f921"
            ]
           ],
           "sequentialminus": [
            [
             0.0,
             "#0d0887"
            ],
            [
             0.1111111111111111,
             "#46039f"
            ],
            [
             0.2222222222222222,
             "#7201a8"
            ],
            [
             0.3333333333333333,
             "#9c179e"
            ],
            [
             0.4444444444444444,
             "#bd3786"
            ],
            [
             0.5555555555555556,
             "#d8576b"
            ],
            [
             0.6666666666666666,
             "#ed7953"
            ],
            [
             0.7777777777777778,
             "#fb9f3a"
            ],
            [
             0.8888888888888888,
             "#fdca26"
            ],
            [
             1.0,
             "#f0f921"
            ]
           ],
           "diverging": [
            [
             0,
             "#8e0152"
            ],
            [
             0.1,
             "#c51b7d"
            ],
            [
             0.2,
             "#de77ae"
            ],
            [
             0.3,
             "#f1b6da"
            ],
            [
             0.4,
             "#fde0ef"
            ],
            [
             0.5,
             "#f7f7f7"
            ],
            [
             0.6,
             "#e6f5d0"
            ],
            [
             0.7,
             "#b8e186"
            ],
            [
             0.8,
             "#7fbc41"
            ],
            [
             0.9,
             "#4d9221"
            ],
            [
             1,
             "#276419"
            ]
           ]
          },
          "xaxis": {
           "gridcolor": "white",
           "linecolor": "white",
           "ticks": "",
           "title": {
            "standoff": 15
           },
           "zerolinecolor": "white",
           "automargin": true,
           "zerolinewidth": 2
          },
          "yaxis": {
           "gridcolor": "white",
           "linecolor": "white",
           "ticks": "",
           "title": {
            "standoff": 15
           },
           "zerolinecolor": "white",
           "automargin": true,
           "zerolinewidth": 2
          },
          "scene": {
           "xaxis": {
            "backgroundcolor": "#E5ECF6",
            "gridcolor": "white",
            "linecolor": "white",
            "showbackground": true,
            "ticks": "",
            "zerolinecolor": "white",
            "gridwidth": 2
           },
           "yaxis": {
            "backgroundcolor": "#E5ECF6",
            "gridcolor": "white",
            "linecolor": "white",
            "showbackground": true,
            "ticks": "",
            "zerolinecolor": "white",
            "gridwidth": 2
           },
           "zaxis": {
            "backgroundcolor": "#E5ECF6",
            "gridcolor": "white",
            "linecolor": "white",
            "showbackground": true,
            "ticks": "",
            "zerolinecolor": "white",
            "gridwidth": 2
           }
          },
          "shapedefaults": {
           "line": {
            "color": "#2a3f5f"
           }
          },
          "annotationdefaults": {
           "arrowcolor": "#2a3f5f",
           "arrowhead": 0,
           "arrowwidth": 1
          },
          "geo": {
           "bgcolor": "white",
           "landcolor": "#E5ECF6",
           "subunitcolor": "white",
           "showland": true,
           "showlakes": true,
           "lakecolor": "white"
          },
          "title": {
           "x": 0.05
          },
          "mapbox": {
           "style": "light"
          }
         }
        },
        "xaxis": {
         "title": {
          "text": "Version"
         }
        },
        "yaxis": {
         "title": {
          "text": "Memory (GB)"
         }
        },
        "hovermode": "x unified"
       },
       "config": {
        "plotlyServerURL": "https://plot.ly"
       }
      }
     },
     "metadata": {},
     "output_type": "display_data"
    }
   ],
   "execution_count": 5
  },
  {
   "metadata": {
    "ExecuteTime": {
     "end_time": "2025-09-15T15:24:22.841408Z",
     "start_time": "2025-09-15T15:24:22.836107Z"
    }
   },
   "cell_type": "code",
   "source": "summary(mixed_small, ['iavl-v2-alpha6-evict20', 'iavl-v2-alpha6', 'memiavl'])",
   "id": "43ba38ea234174ea",
   "outputs": [
    {
     "data": {
      "text/plain": [
       "shape: (3, 4)\n",
       "┌────────────────────────┬──────────────┬────────────┬─────────────┐\n",
       "│ name                   ┆ ops_per_sec  ┆ max_mem_gb ┆ max_disk_gb │\n",
       "│ ---                    ┆ ---          ┆ ---        ┆ ---         │\n",
       "│ str                    ┆ f64          ┆ f64        ┆ f64         │\n",
       "╞════════════════════════╪══════════════╪════════════╪═════════════╡\n",
       "│ iavl-v2-alpha6-evict20 ┆ 15925.232166 ┆ 15.010651  ┆ 50.0        │\n",
       "│ iavl-v2-alpha6         ┆ 10644.822227 ┆ 0.996339   ┆ 50.0        │\n",
       "│ memiavl                ┆ 20543.653772 ┆ 14.627673  ┆ 26.0        │\n",
       "└────────────────────────┴──────────────┴────────────┴─────────────┘"
      ],
      "text/html": [
       "<div><style>\n",
       ".dataframe > thead > tr,\n",
       ".dataframe > tbody > tr {\n",
       "  text-align: right;\n",
       "  white-space: pre-wrap;\n",
       "}\n",
       "</style>\n",
       "<small>shape: (3, 4)</small><table border=\"1\" class=\"dataframe\"><thead><tr><th>name</th><th>ops_per_sec</th><th>max_mem_gb</th><th>max_disk_gb</th></tr><tr><td>str</td><td>f64</td><td>f64</td><td>f64</td></tr></thead><tbody><tr><td>&quot;iavl-v2-alpha6-evict20&quot;</td><td>15925.232166</td><td>15.010651</td><td>50.0</td></tr><tr><td>&quot;iavl-v2-alpha6&quot;</td><td>10644.822227</td><td>0.996339</td><td>50.0</td></tr><tr><td>&quot;memiavl&quot;</td><td>20543.653772</td><td>14.627673</td><td>26.0</td></tr></tbody></table></div>"
      ]
     },
     "execution_count": 6,
     "metadata": {},
     "output_type": "execute_result"
    }
   ],
   "execution_count": 6
  },
  {
   "metadata": {
    "ExecuteTime": {
     "end_time": "2025-09-15T15:24:33.112872Z",
     "start_time": "2025-09-15T15:24:33.097636Z"
    }
   },
   "cell_type": "code",
   "source": "plot_ops_per_sec(mixed_small, ['iavl-v2-alpha6-evict20', 'iavl-v2-alpha6', 'memiavl'])",
   "id": "ac9445e1b6a21a65",
   "outputs": [
    {
     "data": {
      "application/vnd.plotly.v1+json": {
       "data": [
        {
         "mode": "lines",
         "name": "iavl-v2-alpha6-evict20",
         "x": {
          "dtype": "f8",
          "bdata": "AAAAAAAAWUAAAAAAAABpQAAAAAAAwHJAAAAAAAAAeUAAAAAAAEB/QAAAAAAAwIJAAAAAAADghUAAAAAAAACJQAAAAAAAIIxAAAAAAABAj0AAAAAAADCRQAAAAAAAwJJAAAAAAABQlEAAAAAAAOCVQAAAAAAAcJdAAAAAAAAAmUAAAAAAAJCaQAAAAAAAIJxAAAAAAACwnUAAAAAAAECfQAAAAAAAaKBAAAAAAAAwoUAAAAAAAPihQAAAAAAAwKJAAAAAAACIo0AAAAAAAFCkQAAAAAAAGKVAAAAAAADgpUAAAAAAAKimQAAAAAAAcKdAAAAAAAA4qEAAAAAAAACpQAAAAAAAyKlAAAAAAACQqkAAAAAAAFirQAAAAAAAIKxAAAAAAADorEAAAAAAALCtQAAAAAAAeK5AAAAAAABAr0AAAAAAAASwQAAAAAAAaLBAAAAAAADMsEAAAAAAADCxQAAAAAAAlLFAAAAAAAD4sUAAAAAAAFyyQAAAAAAAwLJAAAAAAAAks0AAAAAAAIizQAAAAAAA7LNAAAAAAABQtEAAAAAAALS0QAAAAAAAGLVAAAAAAAB8tUAAAAAAAOC1QAAAAAAARLZAAAAAAACotkAAAAAAAAy3QAAAAAAAcLdAAAAAAADUt0AAAAAAADi4QAAAAAAAnLhAAAAAAAAAuUAAAAAAAGS5QAAAAAAAyLlAAAAAAAAsukAAAAAAAJC6QAAAAAAA9LpAAAAAAABYu0AAAAAAALy7QAAAAAAAILxAAAAAAACEvEAAAAAAAOi8QAAAAAAATL1AAAAAAACwvUAAAAAAABS+QAAAAAAAeL5AAAAAAADcvkAAAAAAAEC/QAAAAAAApL9AAAAAAAAEwEAAAAAAADbAQAAAAAAAaMBAAAAAAACawEAAAAAAAMzAQAAAAAAA/sBAAAAAAAAwwUAAAAAAAGLBQAAAAAAAlMFAAAAAAADGwUAAAAAAAPjBQAAAAAAAKsJAAAAAAABcwkAAAAAAAI7CQAAAAAAAwMJAAAAAAADywkAAAAAAACTDQAAAAAAAVsNAAAAAAACIw0A="
         },
         "y": {
          "dtype": "f8",
          "bdata": "NaABhfjVyEDKxb9CsYTNQD1yAGFLkdJAe97KLKaezkCugRqNt+LRQOxzbgdI8s9ALUpY/gVr0kDorS55ywjPQLzc7E42FtFAcuSdWGZl0EB/JOtSsqbQQB162sMRIs9AoQ+py7SC0kAjDkeNWiXPQNwP4f1YmNFA+Zalo1lb0ECUNDEpb0LRQOVJ7W6kJM5AlxZuproc0kCecXACzg7PQA1K2yduMsxAc1WXdB2HzUDXbbQ7SDnRQJ1t0Dck9sxATqhm4qt70UC51VqGEtfOQCXuef/839BAc2UqYpgcz0DfOPod3+LQQMwRmeQvps9A4yTpzUFDz0AJgVvQktTNQCzkz6kkDtJAyDWpeOeazkCKSW0cl1nRQBrblJ4Bec5AqK2u9Mpi0UBXytJgdWrQQLX9jAeZL9FAuw0SjNIwz0AeSCHgi2zJQLlssrA9acpAqJHwcmZX0UAQh6SusmHNQFJOS3sjrtBA0X49E3u1z0BV8OetxI3NQJ821TYqG9FA3K/UzALrzkC35Yd+ZbDSQO7JHLDq2cxAGxycfJ3XzUDvG5+nn5LRQJR0rfeJOs1Aa3OUbFvP0ECaTl+0BnfOQJMxmPvnmdFA5s6c9SEDzkCnYU+6z9XQQOd994xH+85AgY96PBpgx0Bwl7mvm6PIQEvXN15QRc5AaD5XKsOaz0BKc20y2DnPQMoCk8rlX9BAo0E1QQ8UzkAg6C6IFDnQQNkESCeMLtBAgEY4CPaIzkD67v1nkPHMQGx8jzoPWM1Aq4Ywcfsj0UAFtfuKV/3MQFFidx1nZc9A7AilbtMRz0CTpHydBkfPQA/X4YkYo85ASdrlE1kx0EBUR9RyoXLOQL47LG93VMhARoG4lSS+xkA5XmINpufNQBFwa6Qsrs1AaIa/KR1pzkCOYaSLQCLQQEdLPsyfP85A90deL8sR0ECehvSgCE/OQAtfu9DJTtBAoD4ZGT1Ky0CfttbvRvvNQFAr7eIPGdFA7Z74m43CzUCVG/hdrxbQQP3uJdgml85ACDIE50wH0ECTXHZOtxnNQEI2BrRtG9BAjaRV8BDbzkA="
         },
         "type": "scatter"
        },
        {
         "mode": "lines",
         "name": "iavl-v2-alpha6",
         "x": {
          "dtype": "f8",
          "bdata": "AAAAAAAAWUAAAAAAAABpQAAAAAAAwHJAAAAAAAAAeUAAAAAAAEB/QAAAAAAAwIJAAAAAAADghUAAAAAAAACJQAAAAAAAIIxAAAAAAABAj0AAAAAAADCRQAAAAAAAwJJAAAAAAABQlEAAAAAAAOCVQAAAAAAAcJdAAAAAAAAAmUAAAAAAAJCaQAAAAAAAIJxAAAAAAACwnUAAAAAAAECfQAAAAAAAaKBAAAAAAAAwoUAAAAAAAPihQAAAAAAAwKJAAAAAAACIo0AAAAAAAFCkQAAAAAAAGKVAAAAAAADgpUAAAAAAAKimQAAAAAAAcKdAAAAAAAA4qEAAAAAAAACpQAAAAAAAyKlAAAAAAACQqkAAAAAAAFirQAAAAAAAIKxAAAAAAADorEAAAAAAALCtQAAAAAAAeK5AAAAAAABAr0AAAAAAAASwQAAAAAAAaLBAAAAAAADMsEAAAAAAADCxQAAAAAAAlLFAAAAAAAD4sUAAAAAAAFyyQAAAAAAAwLJAAAAAAAAks0AAAAAAAIizQAAAAAAA7LNAAAAAAABQtEAAAAAAALS0QAAAAAAAGLVAAAAAAAB8tUAAAAAAAOC1QAAAAAAARLZAAAAAAACotkAAAAAAAAy3QAAAAAAAcLdAAAAAAADUt0AAAAAAADi4QAAAAAAAnLhAAAAAAAAAuUAAAAAAAGS5QAAAAAAAyLlAAAAAAAAsukAAAAAAAJC6QAAAAAAA9LpAAAAAAABYu0AAAAAAALy7QAAAAAAAILxAAAAAAACEvEAAAAAAAOi8QAAAAAAATL1AAAAAAACwvUAAAAAAABS+QAAAAAAAeL5AAAAAAADcvkAAAAAAAEC/QAAAAAAApL9AAAAAAAAEwEAAAAAAADbAQAAAAAAAaMBAAAAAAACawEAAAAAAAMzAQAAAAAAA/sBAAAAAAAAwwUAAAAAAAGLBQAAAAAAAlMFAAAAAAADGwUAAAAAAAPjBQAAAAAAAKsJAAAAAAABcwkAAAAAAAI7CQAAAAAAAwMJAAAAAAADywkAAAAAAACTDQAAAAAAAVsNAAAAAAACIw0A="
         },
         "y": {
          "dtype": "f8",
          "bdata": "zwzHfauew0CoG4Im/QbGQMRZLbJm68dA0LcVUu23xkDAO/OBeX/FQJWALOxJoMZAf6XnyWuPxkCa3PRQJLjFQJbbdL6OgMZAI4mAq4ATx0CwSMryrzrGQHxa7O2AW8ZA1M4zZyqAxkCgdaEF7nDGQP6lGji1d8ZAiBWC8TRDxUCIf/KI4QbHQB62JXRmKMZAneKXezw2xkDjtu6n9vfFQHrWczzeCsJA93rnFr/txUBwkiz5NrjFQI5D0w4ytsVAlcaowzbRxUAbvHWQvWXFQBEFXfuIvMVAAXPZkdGjxUDa5EkWAIvGQAAQnHMiJ8ZABvHaIGV5xEDsQnt1fOLFQKCi7ugg2sVAi2W5JnYkxkAmyyA0VtzFQPI2yspiccVAEZZBEEO0xEAu7oiDmBrGQLRH2wQ3M8VA8JijroU0xUAkMMalLjS/QEB4e8u6E8VAigs20+9rxUD/4dNQ90HFQJkZt6gQxcVAQi2efczXxUAGofBR2X7FQHhwYRnarMVAAm1nflxBxUCFiCuW8JDFQJkg7rhpEMNA76MLc0vBxUCwR2rGC23FQFm2XNzoOsVAyIIbDwCVxUAlIGX8gebEQHn4E7av5sRABh85O0bJxEBJIhOwgr3EQEtY6ApzbsRAbrKHkjJOvUC2naUESQPDQDGdBeI448RARCDOoS6JxECvnwnqnADFQO+FmkFJQMRA5iEoTZPsxEDk8mg3yavEQFdzsRyp6cVAS1sBe+0ExUCmJDmN8AbCQEiYeoMWqMVATZwhW8xmxEA/ApDlHxfEQG0Zudt+bcRAddCg/eGRw0Dkbfd8WSjEQFDZXGtCE8RAz82LV+tYxECwNRMcY3nEQODp4u/iBLtA1QXdZMjCw0DDEKpzw1vEQCch1ZBIEMRAysj5jbauw0BRdRh3SM3EQMcjLtNx18RAfolbwxl+xECZ75AuZs7EQF525awIRcVA3ffja90awkDd+hUcQjnFQADBs99fvsRAR7TQwKp5xEBAwIp1K2HEQNKwxmj34cNAxqxdicQwxEBZTk4bDVfEQCzerLmbN8RAU0JL9N4FxEA="
         },
         "type": "scatter"
        },
        {
         "mode": "lines",
         "name": "memiavl",
         "x": {
          "dtype": "f8",
          "bdata": "AAAAAAAAWUAAAAAAAABpQAAAAAAAwHJAAAAAAAAAeUAAAAAAAEB/QAAAAAAAwIJAAAAAAADghUAAAAAAAACJQAAAAAAAIIxAAAAAAABAj0AAAAAAADCRQAAAAAAAwJJAAAAAAABQlEAAAAAAAOCVQAAAAAAAcJdAAAAAAAAAmUAAAAAAAJCaQAAAAAAAIJxAAAAAAACwnUAAAAAAAECfQAAAAAAAaKBAAAAAAAAwoUAAAAAAAPihQAAAAAAAwKJAAAAAAACIo0AAAAAAAFCkQAAAAAAAGKVAAAAAAADgpUAAAAAAAKimQAAAAAAAcKdAAAAAAAA4qEAAAAAAAACpQAAAAAAAyKlAAAAAAACQqkAAAAAAAFirQAAAAAAAIKxAAAAAAADorEAAAAAAALCtQAAAAAAAeK5AAAAAAABAr0AAAAAAAASwQAAAAAAAaLBAAAAAAADMsEAAAAAAADCxQAAAAAAAlLFAAAAAAAD4sUAAAAAAAFyyQAAAAAAAwLJAAAAAAAAks0AAAAAAAIizQAAAAAAA7LNAAAAAAABQtEAAAAAAALS0QAAAAAAAGLVAAAAAAAB8tUAAAAAAAOC1QAAAAAAARLZAAAAAAACotkAAAAAAAAy3QAAAAAAAcLdAAAAAAADUt0AAAAAAADi4QAAAAAAAnLhAAAAAAAAAuUAAAAAAAGS5QAAAAAAAyLlAAAAAAAAsukAAAAAAAJC6QAAAAAAA9LpAAAAAAABYu0AAAAAAALy7QAAAAAAAILxAAAAAAACEvEAAAAAAAOi8QAAAAAAATL1AAAAAAACwvUAAAAAAABS+QAAAAAAAeL5AAAAAAADcvkAAAAAAAEC/QAAAAAAApL9AAAAAAAAEwEAAAAAAADbAQAAAAAAAaMBAAAAAAACawEAAAAAAAMzAQAAAAAAA/sBAAAAAAAAwwUAAAAAAAGLBQAAAAAAAlMFAAAAAAADGwUAAAAAAAPjBQAAAAAAAKsJAAAAAAABcwkAAAAAAAI7CQAAAAAAAwMJAAAAAAADywkAAAAAAACTDQAAAAAAAVsNAAAAAAACIw0A="
         },
         "y": {
          "dtype": "f8",
          "bdata": "MlDbJOa0yEDN83sTcMfUQP6PzSNqQdVA4jjDwOF01EDgxprOBrXVQPUEXscwDtZAhNKvIDtW1UA415vLB37VQJkv7bvHEtZANVERl+sH1kATVr+OonrSQGaGCOdcb9ZAxZTErhzW1UBT7QxriP/VQJonP9EPC9ZAbVtBh6Vf1kC0G+3BlCXWQJ+9NvMSmdVAxcIyoVXo1kAp7iDQqdXWQIVlSvH9v9FAKF8SCuaW1UBI1aminl3VQLVkdwlLMdZAEVy6ulNA1kBIZGeIm2nVQK7SAgnKoNVA0Mc9SULK1UAoWmBUPH3VQDG08g5Ef9VATUxmw/1p0UCmqTEaE9PUQJt7SjfIC9VA7Y5jV19P20BLbhMhZInVQM5lhmKl+9RAKIshUGwp1UAJGB/lTNHUQOs1MZVe2dRA/8ZvGF4n1UD0o/rInCPRQNObPfohk9RASRj5T2ZR1EAj2g+urMXUQHQPuKKihtRA3s2Gq/KV1ECmrpKoRr3aQFqRh3K96NdAmPHMhnqk1UB6VPDcoTPVQBg2SflNV9FAEdqmdsLO1kBmousHFwbaQI4ND1TNM9RAPTPhcs1b1ECzf/Tjt5XUQDnpq6O+YNRAwnLf4CUt1EAapd2EyTPUQKzs9ifsW9RA6q3TgFBqz0A6RTANcqjTQAKdBKNjAdRARkNczmF500DUOTLLcs/TQGso/LlWR9VAFbI2pi9C1EBxN+Y5xjrUQOyuDMuOvNNAAcuzoODu00C0COfQ36TQQE0jriH899JAeHlp4HPx0kCL59ak2MnSQFsDyK3eHtNAgYYKEuhr00CYutCNY1nTQKsOv4DkT9NApokvmkBx00AKzXyElWHTQGQ47UigA85AcpXHB6vP0kA74EAYvATTQG8kD9gom9NAQ8y60qOV00AkXHfBcRjTQHUsivCFmdNAmOTZ1OEC1EBk+pU+yMfUQFv79/jeX9RAZ9RDmgK8zUCHFvvSd6zUQD4cXhQnEdNAzS9MEY540kD/5dMA3jTSQIBy+vADV9JA3Flsj+a50kBAzyUOabLSQCx2W5nX0dJA1mbLth0d00A="
         },
         "type": "scatter"
        }
       ],
       "layout": {
        "template": {
         "data": {
          "histogram2dcontour": [
           {
            "type": "histogram2dcontour",
            "colorbar": {
             "outlinewidth": 0,
             "ticks": ""
            },
            "colorscale": [
             [
              0.0,
              "#0d0887"
             ],
             [
              0.1111111111111111,
              "#46039f"
             ],
             [
              0.2222222222222222,
              "#7201a8"
             ],
             [
              0.3333333333333333,
              "#9c179e"
             ],
             [
              0.4444444444444444,
              "#bd3786"
             ],
             [
              0.5555555555555556,
              "#d8576b"
             ],
             [
              0.6666666666666666,
              "#ed7953"
             ],
             [
              0.7777777777777778,
              "#fb9f3a"
             ],
             [
              0.8888888888888888,
              "#fdca26"
             ],
             [
              1.0,
              "#f0f921"
             ]
            ]
           }
          ],
          "choropleth": [
           {
            "type": "choropleth",
            "colorbar": {
             "outlinewidth": 0,
             "ticks": ""
            }
           }
          ],
          "histogram2d": [
           {
            "type": "histogram2d",
            "colorbar": {
             "outlinewidth": 0,
             "ticks": ""
            },
            "colorscale": [
             [
              0.0,
              "#0d0887"
             ],
             [
              0.1111111111111111,
              "#46039f"
             ],
             [
              0.2222222222222222,
              "#7201a8"
             ],
             [
              0.3333333333333333,
              "#9c179e"
             ],
             [
              0.4444444444444444,
              "#bd3786"
             ],
             [
              0.5555555555555556,
              "#d8576b"
             ],
             [
              0.6666666666666666,
              "#ed7953"
             ],
             [
              0.7777777777777778,
              "#fb9f3a"
             ],
             [
              0.8888888888888888,
              "#fdca26"
             ],
             [
              1.0,
              "#f0f921"
             ]
            ]
           }
          ],
          "heatmap": [
           {
            "type": "heatmap",
            "colorbar": {
             "outlinewidth": 0,
             "ticks": ""
            },
            "colorscale": [
             [
              0.0,
              "#0d0887"
             ],
             [
              0.1111111111111111,
              "#46039f"
             ],
             [
              0.2222222222222222,
              "#7201a8"
             ],
             [
              0.3333333333333333,
              "#9c179e"
             ],
             [
              0.4444444444444444,
              "#bd3786"
             ],
             [
              0.5555555555555556,
              "#d8576b"
             ],
             [
              0.6666666666666666,
              "#ed7953"
             ],
             [
              0.7777777777777778,
              "#fb9f3a"
             ],
             [
              0.8888888888888888,
              "#fdca26"
             ],
             [
              1.0,
              "#f0f921"
             ]
            ]
           }
          ],
          "contourcarpet": [
           {
            "type": "contourcarpet",
            "colorbar": {
             "outlinewidth": 0,
             "ticks": ""
            }
           }
          ],
          "contour": [
           {
            "type": "contour",
            "colorbar": {
             "outlinewidth": 0,
             "ticks": ""
            },
            "colorscale": [
             [
              0.0,
              "#0d0887"
             ],
             [
              0.1111111111111111,
              "#46039f"
             ],
             [
              0.2222222222222222,
              "#7201a8"
             ],
             [
              0.3333333333333333,
              "#9c179e"
             ],
             [
              0.4444444444444444,
              "#bd3786"
             ],
             [
              0.5555555555555556,
              "#d8576b"
             ],
             [
              0.6666666666666666,
              "#ed7953"
             ],
             [
              0.7777777777777778,
              "#fb9f3a"
             ],
             [
              0.8888888888888888,
              "#fdca26"
             ],
             [
              1.0,
              "#f0f921"
             ]
            ]
           }
          ],
          "surface": [
           {
            "type": "surface",
            "colorbar": {
             "outlinewidth": 0,
             "ticks": ""
            },
            "colorscale": [
             [
              0.0,
              "#0d0887"
             ],
             [
              0.1111111111111111,
              "#46039f"
             ],
             [
              0.2222222222222222,
              "#7201a8"
             ],
             [
              0.3333333333333333,
              "#9c179e"
             ],
             [
              0.4444444444444444,
              "#bd3786"
             ],
             [
              0.5555555555555556,
              "#d8576b"
             ],
             [
              0.6666666666666666,
              "#ed7953"
             ],
             [
              0.7777777777777778,
              "#fb9f3a"
             ],
             [
              0.8888888888888888,
              "#fdca26"
             ],
             [
              1.0,
              "#f0f921"
             ]
            ]
           }
          ],
          "mesh3d": [
           {
            "type": "mesh3d",
            "colorbar": {
             "outlinewidth": 0,
             "ticks": ""
            }
           }
          ],
          "scatter": [
           {
            "fillpattern": {
             "fillmode": "overlay",
             "size": 10,
             "solidity": 0.2
            },
            "type": "scatter"
           }
          ],
          "parcoords": [
           {
            "type": "parcoords",
            "line": {
             "colorbar": {
              "outlinewidth": 0,
              "ticks": ""
             }
            }
           }
          ],
          "scatterpolargl": [
           {
            "type": "scatterpolargl",
            "marker": {
             "colorbar": {
              "outlinewidth": 0,
              "ticks": ""
             }
            }
           }
          ],
          "bar": [
           {
            "error_x": {
             "color": "#2a3f5f"
            },
            "error_y": {
             "color": "#2a3f5f"
            },
            "marker": {
             "line": {
              "color": "#E5ECF6",
              "width": 0.5
             },
             "pattern": {
              "fillmode": "overlay",
              "size": 10,
              "solidity": 0.2
             }
            },
            "type": "bar"
           }
          ],
          "scattergeo": [
           {
            "type": "scattergeo",
            "marker": {
             "colorbar": {
              "outlinewidth": 0,
              "ticks": ""
             }
            }
           }
          ],
          "scatterpolar": [
           {
            "type": "scatterpolar",
            "marker": {
             "colorbar": {
              "outlinewidth": 0,
              "ticks": ""
             }
            }
           }
          ],
          "histogram": [
           {
            "marker": {
             "pattern": {
              "fillmode": "overlay",
              "size": 10,
              "solidity": 0.2
             }
            },
            "type": "histogram"
           }
          ],
          "scattergl": [
           {
            "type": "scattergl",
            "marker": {
             "colorbar": {
              "outlinewidth": 0,
              "ticks": ""
             }
            }
           }
          ],
          "scatter3d": [
           {
            "type": "scatter3d",
            "line": {
             "colorbar": {
              "outlinewidth": 0,
              "ticks": ""
             }
            },
            "marker": {
             "colorbar": {
              "outlinewidth": 0,
              "ticks": ""
             }
            }
           }
          ],
          "scattermap": [
           {
            "type": "scattermap",
            "marker": {
             "colorbar": {
              "outlinewidth": 0,
              "ticks": ""
             }
            }
           }
          ],
          "scattermapbox": [
           {
            "type": "scattermapbox",
            "marker": {
             "colorbar": {
              "outlinewidth": 0,
              "ticks": ""
             }
            }
           }
          ],
          "scatterternary": [
           {
            "type": "scatterternary",
            "marker": {
             "colorbar": {
              "outlinewidth": 0,
              "ticks": ""
             }
            }
           }
          ],
          "scattercarpet": [
           {
            "type": "scattercarpet",
            "marker": {
             "colorbar": {
              "outlinewidth": 0,
              "ticks": ""
             }
            }
           }
          ],
          "carpet": [
           {
            "aaxis": {
             "endlinecolor": "#2a3f5f",
             "gridcolor": "white",
             "linecolor": "white",
             "minorgridcolor": "white",
             "startlinecolor": "#2a3f5f"
            },
            "baxis": {
             "endlinecolor": "#2a3f5f",
             "gridcolor": "white",
             "linecolor": "white",
             "minorgridcolor": "white",
             "startlinecolor": "#2a3f5f"
            },
            "type": "carpet"
           }
          ],
          "table": [
           {
            "cells": {
             "fill": {
              "color": "#EBF0F8"
             },
             "line": {
              "color": "white"
             }
            },
            "header": {
             "fill": {
              "color": "#C8D4E3"
             },
             "line": {
              "color": "white"
             }
            },
            "type": "table"
           }
          ],
          "barpolar": [
           {
            "marker": {
             "line": {
              "color": "#E5ECF6",
              "width": 0.5
             },
             "pattern": {
              "fillmode": "overlay",
              "size": 10,
              "solidity": 0.2
             }
            },
            "type": "barpolar"
           }
          ],
          "pie": [
           {
            "automargin": true,
            "type": "pie"
           }
          ]
         },
         "layout": {
          "autotypenumbers": "strict",
          "colorway": [
           "#636efa",
           "#EF553B",
           "#00cc96",
           "#ab63fa",
           "#FFA15A",
           "#19d3f3",
           "#FF6692",
           "#B6E880",
           "#FF97FF",
           "#FECB52"
          ],
          "font": {
           "color": "#2a3f5f"
          },
          "hovermode": "closest",
          "hoverlabel": {
           "align": "left"
          },
          "paper_bgcolor": "white",
          "plot_bgcolor": "#E5ECF6",
          "polar": {
           "bgcolor": "#E5ECF6",
           "angularaxis": {
            "gridcolor": "white",
            "linecolor": "white",
            "ticks": ""
           },
           "radialaxis": {
            "gridcolor": "white",
            "linecolor": "white",
            "ticks": ""
           }
          },
          "ternary": {
           "bgcolor": "#E5ECF6",
           "aaxis": {
            "gridcolor": "white",
            "linecolor": "white",
            "ticks": ""
           },
           "baxis": {
            "gridcolor": "white",
            "linecolor": "white",
            "ticks": ""
           },
           "caxis": {
            "gridcolor": "white",
            "linecolor": "white",
            "ticks": ""
           }
          },
          "coloraxis": {
           "colorbar": {
            "outlinewidth": 0,
            "ticks": ""
           }
          },
          "colorscale": {
           "sequential": [
            [
             0.0,
             "#0d0887"
            ],
            [
             0.1111111111111111,
             "#46039f"
            ],
            [
             0.2222222222222222,
             "#7201a8"
            ],
            [
             0.3333333333333333,
             "#9c179e"
            ],
            [
             0.4444444444444444,
             "#bd3786"
            ],
            [
             0.5555555555555556,
             "#d8576b"
            ],
            [
             0.6666666666666666,
             "#ed7953"
            ],
            [
             0.7777777777777778,
             "#fb9f3a"
            ],
            [
             0.8888888888888888,
             "#fdca26"
            ],
            [
             1.0,
             "#f0f921"
            ]
           ],
           "sequentialminus": [
            [
             0.0,
             "#0d0887"
            ],
            [
             0.1111111111111111,
             "#46039f"
            ],
            [
             0.2222222222222222,
             "#7201a8"
            ],
            [
             0.3333333333333333,
             "#9c179e"
            ],
            [
             0.4444444444444444,
             "#bd3786"
            ],
            [
             0.5555555555555556,
             "#d8576b"
            ],
            [
             0.6666666666666666,
             "#ed7953"
            ],
            [
             0.7777777777777778,
             "#fb9f3a"
            ],
            [
             0.8888888888888888,
             "#fdca26"
            ],
            [
             1.0,
             "#f0f921"
            ]
           ],
           "diverging": [
            [
             0,
             "#8e0152"
            ],
            [
             0.1,
             "#c51b7d"
            ],
            [
             0.2,
             "#de77ae"
            ],
            [
             0.3,
             "#f1b6da"
            ],
            [
             0.4,
             "#fde0ef"
            ],
            [
             0.5,
             "#f7f7f7"
            ],
            [
             0.6,
             "#e6f5d0"
            ],
            [
             0.7,
             "#b8e186"
            ],
            [
             0.8,
             "#7fbc41"
            ],
            [
             0.9,
             "#4d9221"
            ],
            [
             1,
             "#276419"
            ]
           ]
          },
          "xaxis": {
           "gridcolor": "white",
           "linecolor": "white",
           "ticks": "",
           "title": {
            "standoff": 15
           },
           "zerolinecolor": "white",
           "automargin": true,
           "zerolinewidth": 2
          },
          "yaxis": {
           "gridcolor": "white",
           "linecolor": "white",
           "ticks": "",
           "title": {
            "standoff": 15
           },
           "zerolinecolor": "white",
           "automargin": true,
           "zerolinewidth": 2
          },
          "scene": {
           "xaxis": {
            "backgroundcolor": "#E5ECF6",
            "gridcolor": "white",
            "linecolor": "white",
            "showbackground": true,
            "ticks": "",
            "zerolinecolor": "white",
            "gridwidth": 2
           },
           "yaxis": {
            "backgroundcolor": "#E5ECF6",
            "gridcolor": "white",
            "linecolor": "white",
            "showbackground": true,
            "ticks": "",
            "zerolinecolor": "white",
            "gridwidth": 2
           },
           "zaxis": {
            "backgroundcolor": "#E5ECF6",
            "gridcolor": "white",
            "linecolor": "white",
            "showbackground": true,
            "ticks": "",
            "zerolinecolor": "white",
            "gridwidth": 2
           }
          },
          "shapedefaults": {
           "line": {
            "color": "#2a3f5f"
           }
          },
          "annotationdefaults": {
           "arrowcolor": "#2a3f5f",
           "arrowhead": 0,
           "arrowwidth": 1
          },
          "geo": {
           "bgcolor": "white",
           "landcolor": "#E5ECF6",
           "subunitcolor": "white",
           "showland": true,
           "showlakes": true,
           "lakecolor": "white"
          },
          "title": {
           "x": 0.05
          },
          "mapbox": {
           "style": "light"
          }
         }
        },
        "xaxis": {
         "title": {
          "text": "Version"
         }
        },
        "yaxis": {
         "title": {
          "text": "Ops/Sec"
         }
        },
        "hovermode": "x unified"
       },
       "config": {
        "plotlyServerURL": "https://plot.ly"
       }
      }
     },
     "metadata": {},
     "output_type": "display_data"
    }
   ],
   "execution_count": 7
  },
  {
   "metadata": {
    "jupyter": {
     "is_executing": true
    },
    "ExecuteTime": {
     "start_time": "2025-09-15T15:24:33.144656Z"
    }
   },
   "cell_type": "code",
   "source": "mixed_large = load_benchmark_dir_dict(\"/Users/arc/iavl-bench-data/run-mixed-large\")",
   "id": "9890b57afba2683a",
   "outputs": [],
   "execution_count": null
  },
  {
   "metadata": {},
   "cell_type": "code",
   "source": "summary(mixed_large)",
   "id": "6511f38451ecacdc",
   "outputs": [],
   "execution_count": null
  },
  {
   "metadata": {},
   "cell_type": "code",
   "source": "plot_ops_per_sec(mixed_large, [\"memiavl\", \"iavl-v1\", \"iavl-v2-alpha6\", \"memiavl-100-2\"])",
   "id": "382d92549d3ca62a",
   "outputs": [],
   "execution_count": null
  },
  {
   "metadata": {},
   "cell_type": "code",
   "source": "plot_mem(mixed_large, [\"memiavl\", \"iavl-v1\", \"iavl-v2-alpha6\", \"memiavl-100-2\"])",
   "id": "dc58a5bd8891e941",
   "outputs": [],
   "execution_count": null
  },
  {
   "metadata": {},
   "cell_type": "code",
   "source": "plot_disk_usage(mixed_large, [\"memiavl\", \"iavl-v1\", \"iavl-v2-alpha6\", \"memiavl-100-2\"])\n",
   "id": "4aa3ed63ff20a790",
   "outputs": [],
   "execution_count": null
  }
 ],
 "metadata": {
  "kernelspec": {
   "display_name": "Python 3",
   "language": "python",
   "name": "python3"
  },
  "language_info": {
   "codemirror_mode": {
    "name": "ipython",
    "version": 2
   },
   "file_extension": ".py",
   "mimetype": "text/x-python",
   "name": "python",
   "nbconvert_exporter": "python",
   "pygments_lexer": "ipython2",
   "version": "2.7.6"
  }
 },
 "nbformat": 4,
 "nbformat_minor": 5
}
